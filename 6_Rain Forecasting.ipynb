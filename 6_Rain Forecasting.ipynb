{
 "cells": [
  {
   "cell_type": "markdown",
   "id": "aa0c859f-9b92-45af-9d5a-b380aa788e7e",
   "metadata": {},
   "source": [
    "# Introduction"
   ]
  },
  {
   "cell_type": "markdown",
   "id": "377ac2e9-4c84-4e2f-bcc2-62552aa2c19c",
   "metadata": {},
   "source": [
    "Accurate rainfall forecasts are essential for planning water allocation, storage, and distribution strategies. It is crucial for their operations, to plan water allocation strategies and reservoir management more effectively. The goal of this project is to develop a machine learning model to forecast rainfall for upcoming months in Mumbai, India. By anticipating rainfall patterns, they can optimize their operations and minimize costs while ensuring a consistent water supply throughout the year."
   ]
  },
  {
   "cell_type": "markdown",
   "id": "acf0978f-8e41-4162-9906-7f5649c571a8",
   "metadata": {},
   "source": [
    "# Import Required Libiaries"
   ]
  },
  {
   "cell_type": "code",
   "execution_count": 1,
   "id": "634ce1e5-047c-407f-b743-8e7010331d48",
   "metadata": {},
   "outputs": [],
   "source": [
    "import warnings\n",
    "warnings.filterwarnings('ignore')"
   ]
  },
  {
   "cell_type": "code",
   "execution_count": 2,
   "id": "1928cbb6-c189-4755-bc4e-e84435c1a74c",
   "metadata": {
    "scrolled": true
   },
   "outputs": [],
   "source": [
    "import numpy as np\n",
    "import pandas as pd\n",
    "import matplotlib.pyplot as plt\n",
    "import seaborn as sns\n",
    "import plotly.express as px"
   ]
  },
  {
   "cell_type": "markdown",
   "id": "1575c0db-f718-4ef7-90b7-e3c04c98e203",
   "metadata": {},
   "source": [
    "# Load The Data Set"
   ]
  },
  {
   "cell_type": "code",
   "execution_count": 3,
   "id": "becb0313-4ff6-4e4b-9a1b-51242ded40b7",
   "metadata": {},
   "outputs": [],
   "source": [
    "#load the data set\n",
    "df= pd.read_csv(\"C:\\\\Users\\\\ragul\\\\project\\\\mumbai-monthly-rains.csv\")"
   ]
  },
  {
   "cell_type": "code",
   "execution_count": 4,
   "id": "ceeabfb6-9305-49d3-a10d-4a8944e713f0",
   "metadata": {
    "scrolled": true
   },
   "outputs": [
    {
     "data": {
      "text/html": [
       "<div>\n",
       "<style scoped>\n",
       "    .dataframe tbody tr th:only-of-type {\n",
       "        vertical-align: middle;\n",
       "    }\n",
       "\n",
       "    .dataframe tbody tr th {\n",
       "        vertical-align: top;\n",
       "    }\n",
       "\n",
       "    .dataframe thead th {\n",
       "        text-align: right;\n",
       "    }\n",
       "</style>\n",
       "<table border=\"1\" class=\"dataframe\">\n",
       "  <thead>\n",
       "    <tr style=\"text-align: right;\">\n",
       "      <th></th>\n",
       "      <th>Year</th>\n",
       "      <th>Jan</th>\n",
       "      <th>Feb</th>\n",
       "      <th>Mar</th>\n",
       "      <th>April</th>\n",
       "      <th>May</th>\n",
       "      <th>June</th>\n",
       "      <th>July</th>\n",
       "      <th>Aug</th>\n",
       "      <th>Sept</th>\n",
       "      <th>Oct</th>\n",
       "      <th>Nov</th>\n",
       "      <th>Dec</th>\n",
       "      <th>Total</th>\n",
       "    </tr>\n",
       "  </thead>\n",
       "  <tbody>\n",
       "    <tr>\n",
       "      <th>0</th>\n",
       "      <td>1901</td>\n",
       "      <td>13.116602</td>\n",
       "      <td>0.000000</td>\n",
       "      <td>0.000000</td>\n",
       "      <td>3.949669</td>\n",
       "      <td>17.139791</td>\n",
       "      <td>640.714036</td>\n",
       "      <td>888.369692</td>\n",
       "      <td>545.045796</td>\n",
       "      <td>64.271513</td>\n",
       "      <td>9.871696</td>\n",
       "      <td>0.000000</td>\n",
       "      <td>0.000000</td>\n",
       "      <td>2182.478796</td>\n",
       "    </tr>\n",
       "    <tr>\n",
       "      <th>1</th>\n",
       "      <td>1902</td>\n",
       "      <td>0.000000</td>\n",
       "      <td>0.000000</td>\n",
       "      <td>0.000000</td>\n",
       "      <td>0.000000</td>\n",
       "      <td>0.355001</td>\n",
       "      <td>247.998782</td>\n",
       "      <td>408.433730</td>\n",
       "      <td>566.595863</td>\n",
       "      <td>688.913455</td>\n",
       "      <td>28.654092</td>\n",
       "      <td>0.488864</td>\n",
       "      <td>19.526547</td>\n",
       "      <td>1960.966334</td>\n",
       "    </tr>\n",
       "    <tr>\n",
       "      <th>2</th>\n",
       "      <td>1903</td>\n",
       "      <td>0.000000</td>\n",
       "      <td>0.000000</td>\n",
       "      <td>0.844034</td>\n",
       "      <td>0.000000</td>\n",
       "      <td>220.568740</td>\n",
       "      <td>370.849048</td>\n",
       "      <td>902.447896</td>\n",
       "      <td>602.420828</td>\n",
       "      <td>264.589816</td>\n",
       "      <td>157.892877</td>\n",
       "      <td>0.000000</td>\n",
       "      <td>0.000000</td>\n",
       "      <td>2519.613240</td>\n",
       "    </tr>\n",
       "    <tr>\n",
       "      <th>3</th>\n",
       "      <td>1904</td>\n",
       "      <td>0.000000</td>\n",
       "      <td>0.000000</td>\n",
       "      <td>11.381769</td>\n",
       "      <td>0.000000</td>\n",
       "      <td>0.000000</td>\n",
       "      <td>723.081969</td>\n",
       "      <td>390.886799</td>\n",
       "      <td>191.581927</td>\n",
       "      <td>85.704754</td>\n",
       "      <td>38.679948</td>\n",
       "      <td>0.000000</td>\n",
       "      <td>0.000000</td>\n",
       "      <td>1441.317168</td>\n",
       "    </tr>\n",
       "    <tr>\n",
       "      <th>4</th>\n",
       "      <td>1905</td>\n",
       "      <td>0.662561</td>\n",
       "      <td>1.713452</td>\n",
       "      <td>0.000000</td>\n",
       "      <td>0.000000</td>\n",
       "      <td>0.000000</td>\n",
       "      <td>123.870892</td>\n",
       "      <td>581.827975</td>\n",
       "      <td>167.382149</td>\n",
       "      <td>172.297723</td>\n",
       "      <td>7.365924</td>\n",
       "      <td>24.903575</td>\n",
       "      <td>0.000000</td>\n",
       "      <td>1080.024250</td>\n",
       "    </tr>\n",
       "    <tr>\n",
       "      <th>...</th>\n",
       "      <td>...</td>\n",
       "      <td>...</td>\n",
       "      <td>...</td>\n",
       "      <td>...</td>\n",
       "      <td>...</td>\n",
       "      <td>...</td>\n",
       "      <td>...</td>\n",
       "      <td>...</td>\n",
       "      <td>...</td>\n",
       "      <td>...</td>\n",
       "      <td>...</td>\n",
       "      <td>...</td>\n",
       "      <td>...</td>\n",
       "      <td>...</td>\n",
       "    </tr>\n",
       "    <tr>\n",
       "      <th>116</th>\n",
       "      <td>2017</td>\n",
       "      <td>0.000000</td>\n",
       "      <td>0.000000</td>\n",
       "      <td>0.000000</td>\n",
       "      <td>0.000000</td>\n",
       "      <td>1.043890</td>\n",
       "      <td>584.946748</td>\n",
       "      <td>702.386594</td>\n",
       "      <td>796.997046</td>\n",
       "      <td>539.932782</td>\n",
       "      <td>102.108135</td>\n",
       "      <td>0.000000</td>\n",
       "      <td>79.685446</td>\n",
       "      <td>2807.100642</td>\n",
       "    </tr>\n",
       "    <tr>\n",
       "      <th>117</th>\n",
       "      <td>2018</td>\n",
       "      <td>0.000000</td>\n",
       "      <td>0.000000</td>\n",
       "      <td>0.000000</td>\n",
       "      <td>0.000000</td>\n",
       "      <td>0.000000</td>\n",
       "      <td>846.855987</td>\n",
       "      <td>913.470461</td>\n",
       "      <td>228.590420</td>\n",
       "      <td>78.935944</td>\n",
       "      <td>13.354574</td>\n",
       "      <td>8.939212</td>\n",
       "      <td>0.000000</td>\n",
       "      <td>2090.146599</td>\n",
       "    </tr>\n",
       "    <tr>\n",
       "      <th>118</th>\n",
       "      <td>2019</td>\n",
       "      <td>0.000000</td>\n",
       "      <td>0.000000</td>\n",
       "      <td>0.000000</td>\n",
       "      <td>0.000000</td>\n",
       "      <td>0.000000</td>\n",
       "      <td>412.763730</td>\n",
       "      <td>1302.466441</td>\n",
       "      <td>479.834603</td>\n",
       "      <td>987.796660</td>\n",
       "      <td>92.008442</td>\n",
       "      <td>57.014501</td>\n",
       "      <td>1.172425</td>\n",
       "      <td>3333.056801</td>\n",
       "    </tr>\n",
       "    <tr>\n",
       "      <th>119</th>\n",
       "      <td>2020</td>\n",
       "      <td>0.000000</td>\n",
       "      <td>0.000000</td>\n",
       "      <td>0.104274</td>\n",
       "      <td>0.000000</td>\n",
       "      <td>0.000000</td>\n",
       "      <td>439.814569</td>\n",
       "      <td>1328.766631</td>\n",
       "      <td>1182.080688</td>\n",
       "      <td>411.247678</td>\n",
       "      <td>184.458385</td>\n",
       "      <td>0.000000</td>\n",
       "      <td>16.787305</td>\n",
       "      <td>3563.259531</td>\n",
       "    </tr>\n",
       "    <tr>\n",
       "      <th>120</th>\n",
       "      <td>2021</td>\n",
       "      <td>0.727235</td>\n",
       "      <td>0.825876</td>\n",
       "      <td>0.010660</td>\n",
       "      <td>0.002233</td>\n",
       "      <td>219.075060</td>\n",
       "      <td>796.307275</td>\n",
       "      <td>981.146645</td>\n",
       "      <td>323.199896</td>\n",
       "      <td>601.247517</td>\n",
       "      <td>36.040432</td>\n",
       "      <td>25.156942</td>\n",
       "      <td>90.044602</td>\n",
       "      <td>3073.784373</td>\n",
       "    </tr>\n",
       "  </tbody>\n",
       "</table>\n",
       "<p>121 rows × 14 columns</p>\n",
       "</div>"
      ],
      "text/plain": [
       "     Year        Jan       Feb        Mar     April         May        June  \\\n",
       "0    1901  13.116602  0.000000   0.000000  3.949669   17.139791  640.714036   \n",
       "1    1902   0.000000  0.000000   0.000000  0.000000    0.355001  247.998782   \n",
       "2    1903   0.000000  0.000000   0.844034  0.000000  220.568740  370.849048   \n",
       "3    1904   0.000000  0.000000  11.381769  0.000000    0.000000  723.081969   \n",
       "4    1905   0.662561  1.713452   0.000000  0.000000    0.000000  123.870892   \n",
       "..    ...        ...       ...        ...       ...         ...         ...   \n",
       "116  2017   0.000000  0.000000   0.000000  0.000000    1.043890  584.946748   \n",
       "117  2018   0.000000  0.000000   0.000000  0.000000    0.000000  846.855987   \n",
       "118  2019   0.000000  0.000000   0.000000  0.000000    0.000000  412.763730   \n",
       "119  2020   0.000000  0.000000   0.104274  0.000000    0.000000  439.814569   \n",
       "120  2021   0.727235  0.825876   0.010660  0.002233  219.075060  796.307275   \n",
       "\n",
       "            July          Aug        Sept         Oct        Nov        Dec  \\\n",
       "0     888.369692   545.045796   64.271513    9.871696   0.000000   0.000000   \n",
       "1     408.433730   566.595863  688.913455   28.654092   0.488864  19.526547   \n",
       "2     902.447896   602.420828  264.589816  157.892877   0.000000   0.000000   \n",
       "3     390.886799   191.581927   85.704754   38.679948   0.000000   0.000000   \n",
       "4     581.827975   167.382149  172.297723    7.365924  24.903575   0.000000   \n",
       "..           ...          ...         ...         ...        ...        ...   \n",
       "116   702.386594   796.997046  539.932782  102.108135   0.000000  79.685446   \n",
       "117   913.470461   228.590420   78.935944   13.354574   8.939212   0.000000   \n",
       "118  1302.466441   479.834603  987.796660   92.008442  57.014501   1.172425   \n",
       "119  1328.766631  1182.080688  411.247678  184.458385   0.000000  16.787305   \n",
       "120   981.146645   323.199896  601.247517   36.040432  25.156942  90.044602   \n",
       "\n",
       "           Total  \n",
       "0    2182.478796  \n",
       "1    1960.966334  \n",
       "2    2519.613240  \n",
       "3    1441.317168  \n",
       "4    1080.024250  \n",
       "..           ...  \n",
       "116  2807.100642  \n",
       "117  2090.146599  \n",
       "118  3333.056801  \n",
       "119  3563.259531  \n",
       "120  3073.784373  \n",
       "\n",
       "[121 rows x 14 columns]"
      ]
     },
     "execution_count": 4,
     "metadata": {},
     "output_type": "execute_result"
    }
   ],
   "source": [
    "df"
   ]
  },
  {
   "cell_type": "markdown",
   "id": "b610b5b2-f88e-47d3-87ac-b9483cd21931",
   "metadata": {},
   "source": [
    "# Data Profilling"
   ]
  },
  {
   "cell_type": "code",
   "execution_count": 5,
   "id": "00820c8c-fbb9-4fd6-bd5f-a7449fa29f33",
   "metadata": {},
   "outputs": [
    {
     "name": "stdout",
     "output_type": "stream",
     "text": [
      "<class 'pandas.core.frame.DataFrame'>\n",
      "RangeIndex: 121 entries, 0 to 120\n",
      "Data columns (total 14 columns):\n",
      " #   Column  Non-Null Count  Dtype  \n",
      "---  ------  --------------  -----  \n",
      " 0   Year    121 non-null    int64  \n",
      " 1   Jan     121 non-null    float64\n",
      " 2   Feb     121 non-null    float64\n",
      " 3   Mar     121 non-null    float64\n",
      " 4   April   121 non-null    float64\n",
      " 5   May     121 non-null    float64\n",
      " 6   June    121 non-null    float64\n",
      " 7   July    121 non-null    float64\n",
      " 8   Aug     121 non-null    float64\n",
      " 9   Sept    121 non-null    float64\n",
      " 10  Oct     121 non-null    float64\n",
      " 11  Nov     121 non-null    float64\n",
      " 12  Dec     121 non-null    float64\n",
      " 13  Total   121 non-null    float64\n",
      "dtypes: float64(13), int64(1)\n",
      "memory usage: 13.4 KB\n"
     ]
    }
   ],
   "source": [
    "df.info()"
   ]
  },
  {
   "cell_type": "code",
   "execution_count": 6,
   "id": "e627dc27-7d35-4073-810d-83317323dee5",
   "metadata": {},
   "outputs": [
    {
     "data": {
      "text/html": [
       "<div>\n",
       "<style scoped>\n",
       "    .dataframe tbody tr th:only-of-type {\n",
       "        vertical-align: middle;\n",
       "    }\n",
       "\n",
       "    .dataframe tbody tr th {\n",
       "        vertical-align: top;\n",
       "    }\n",
       "\n",
       "    .dataframe thead th {\n",
       "        text-align: right;\n",
       "    }\n",
       "</style>\n",
       "<table border=\"1\" class=\"dataframe\">\n",
       "  <thead>\n",
       "    <tr style=\"text-align: right;\">\n",
       "      <th></th>\n",
       "      <th>count</th>\n",
       "      <th>mean</th>\n",
       "      <th>std</th>\n",
       "      <th>min</th>\n",
       "      <th>25%</th>\n",
       "      <th>50%</th>\n",
       "      <th>75%</th>\n",
       "      <th>max</th>\n",
       "    </tr>\n",
       "  </thead>\n",
       "  <tbody>\n",
       "    <tr>\n",
       "      <th>Year</th>\n",
       "      <td>121.0</td>\n",
       "      <td>1961.000000</td>\n",
       "      <td>35.073732</td>\n",
       "      <td>1901.000000</td>\n",
       "      <td>1931.000000</td>\n",
       "      <td>1961.000000</td>\n",
       "      <td>1991.000000</td>\n",
       "      <td>2021.000000</td>\n",
       "    </tr>\n",
       "    <tr>\n",
       "      <th>Jan</th>\n",
       "      <td>121.0</td>\n",
       "      <td>1.567235</td>\n",
       "      <td>6.462247</td>\n",
       "      <td>0.000000</td>\n",
       "      <td>0.000000</td>\n",
       "      <td>0.000000</td>\n",
       "      <td>0.000000</td>\n",
       "      <td>51.348290</td>\n",
       "    </tr>\n",
       "    <tr>\n",
       "      <th>Feb</th>\n",
       "      <td>121.0</td>\n",
       "      <td>0.929358</td>\n",
       "      <td>3.077050</td>\n",
       "      <td>0.000000</td>\n",
       "      <td>0.000000</td>\n",
       "      <td>0.000000</td>\n",
       "      <td>0.152298</td>\n",
       "      <td>21.107118</td>\n",
       "    </tr>\n",
       "    <tr>\n",
       "      <th>Mar</th>\n",
       "      <td>121.0</td>\n",
       "      <td>0.869231</td>\n",
       "      <td>2.890032</td>\n",
       "      <td>0.000000</td>\n",
       "      <td>0.000000</td>\n",
       "      <td>0.000000</td>\n",
       "      <td>0.000000</td>\n",
       "      <td>18.252996</td>\n",
       "    </tr>\n",
       "    <tr>\n",
       "      <th>April</th>\n",
       "      <td>121.0</td>\n",
       "      <td>1.428458</td>\n",
       "      <td>7.371307</td>\n",
       "      <td>0.000000</td>\n",
       "      <td>0.000000</td>\n",
       "      <td>0.000000</td>\n",
       "      <td>0.194165</td>\n",
       "      <td>75.541818</td>\n",
       "    </tr>\n",
       "    <tr>\n",
       "      <th>May</th>\n",
       "      <td>121.0</td>\n",
       "      <td>18.183632</td>\n",
       "      <td>48.628812</td>\n",
       "      <td>0.000000</td>\n",
       "      <td>0.000000</td>\n",
       "      <td>0.355001</td>\n",
       "      <td>4.208322</td>\n",
       "      <td>234.392757</td>\n",
       "    </tr>\n",
       "    <tr>\n",
       "      <th>June</th>\n",
       "      <td>121.0</td>\n",
       "      <td>517.854402</td>\n",
       "      <td>251.067016</td>\n",
       "      <td>61.058662</td>\n",
       "      <td>324.094617</td>\n",
       "      <td>482.449872</td>\n",
       "      <td>678.040770</td>\n",
       "      <td>1219.518576</td>\n",
       "    </tr>\n",
       "    <tr>\n",
       "      <th>July</th>\n",
       "      <td>121.0</td>\n",
       "      <td>757.407412</td>\n",
       "      <td>285.836188</td>\n",
       "      <td>103.209194</td>\n",
       "      <td>540.745923</td>\n",
       "      <td>788.403637</td>\n",
       "      <td>942.616099</td>\n",
       "      <td>1358.833554</td>\n",
       "    </tr>\n",
       "    <tr>\n",
       "      <th>Aug</th>\n",
       "      <td>121.0</td>\n",
       "      <td>465.600818</td>\n",
       "      <td>249.072915</td>\n",
       "      <td>87.493370</td>\n",
       "      <td>268.002392</td>\n",
       "      <td>445.870342</td>\n",
       "      <td>604.372615</td>\n",
       "      <td>1200.956558</td>\n",
       "    </tr>\n",
       "    <tr>\n",
       "      <th>Sept</th>\n",
       "      <td>121.0</td>\n",
       "      <td>312.885747</td>\n",
       "      <td>205.135368</td>\n",
       "      <td>36.313545</td>\n",
       "      <td>149.584208</td>\n",
       "      <td>269.276549</td>\n",
       "      <td>398.645218</td>\n",
       "      <td>987.796660</td>\n",
       "    </tr>\n",
       "    <tr>\n",
       "      <th>Oct</th>\n",
       "      <td>121.0</td>\n",
       "      <td>73.983526</td>\n",
       "      <td>96.686113</td>\n",
       "      <td>0.000000</td>\n",
       "      <td>9.871696</td>\n",
       "      <td>43.479170</td>\n",
       "      <td>98.235161</td>\n",
       "      <td>552.902707</td>\n",
       "    </tr>\n",
       "    <tr>\n",
       "      <th>Nov</th>\n",
       "      <td>121.0</td>\n",
       "      <td>13.849462</td>\n",
       "      <td>29.689941</td>\n",
       "      <td>0.000000</td>\n",
       "      <td>0.000000</td>\n",
       "      <td>1.066086</td>\n",
       "      <td>9.373154</td>\n",
       "      <td>164.348387</td>\n",
       "    </tr>\n",
       "    <tr>\n",
       "      <th>Dec</th>\n",
       "      <td>121.0</td>\n",
       "      <td>3.556428</td>\n",
       "      <td>12.342390</td>\n",
       "      <td>0.000000</td>\n",
       "      <td>0.000000</td>\n",
       "      <td>0.000000</td>\n",
       "      <td>0.176149</td>\n",
       "      <td>90.044602</td>\n",
       "    </tr>\n",
       "    <tr>\n",
       "      <th>Total</th>\n",
       "      <td>121.0</td>\n",
       "      <td>2168.115709</td>\n",
       "      <td>533.263926</td>\n",
       "      <td>1058.840525</td>\n",
       "      <td>1834.996957</td>\n",
       "      <td>2126.054987</td>\n",
       "      <td>2478.558089</td>\n",
       "      <td>3563.259531</td>\n",
       "    </tr>\n",
       "  </tbody>\n",
       "</table>\n",
       "</div>"
      ],
      "text/plain": [
       "       count         mean         std          min          25%          50%  \\\n",
       "Year   121.0  1961.000000   35.073732  1901.000000  1931.000000  1961.000000   \n",
       "Jan    121.0     1.567235    6.462247     0.000000     0.000000     0.000000   \n",
       "Feb    121.0     0.929358    3.077050     0.000000     0.000000     0.000000   \n",
       "Mar    121.0     0.869231    2.890032     0.000000     0.000000     0.000000   \n",
       "April  121.0     1.428458    7.371307     0.000000     0.000000     0.000000   \n",
       "May    121.0    18.183632   48.628812     0.000000     0.000000     0.355001   \n",
       "June   121.0   517.854402  251.067016    61.058662   324.094617   482.449872   \n",
       "July   121.0   757.407412  285.836188   103.209194   540.745923   788.403637   \n",
       "Aug    121.0   465.600818  249.072915    87.493370   268.002392   445.870342   \n",
       "Sept   121.0   312.885747  205.135368    36.313545   149.584208   269.276549   \n",
       "Oct    121.0    73.983526   96.686113     0.000000     9.871696    43.479170   \n",
       "Nov    121.0    13.849462   29.689941     0.000000     0.000000     1.066086   \n",
       "Dec    121.0     3.556428   12.342390     0.000000     0.000000     0.000000   \n",
       "Total  121.0  2168.115709  533.263926  1058.840525  1834.996957  2126.054987   \n",
       "\n",
       "               75%          max  \n",
       "Year   1991.000000  2021.000000  \n",
       "Jan       0.000000    51.348290  \n",
       "Feb       0.152298    21.107118  \n",
       "Mar       0.000000    18.252996  \n",
       "April     0.194165    75.541818  \n",
       "May       4.208322   234.392757  \n",
       "June    678.040770  1219.518576  \n",
       "July    942.616099  1358.833554  \n",
       "Aug     604.372615  1200.956558  \n",
       "Sept    398.645218   987.796660  \n",
       "Oct      98.235161   552.902707  \n",
       "Nov       9.373154   164.348387  \n",
       "Dec       0.176149    90.044602  \n",
       "Total  2478.558089  3563.259531  "
      ]
     },
     "execution_count": 6,
     "metadata": {},
     "output_type": "execute_result"
    }
   ],
   "source": [
    "df.describe().T"
   ]
  },
  {
   "cell_type": "code",
   "execution_count": 7,
   "id": "e7975ddc-dcff-4e51-88b3-7d478f83688c",
   "metadata": {},
   "outputs": [
    {
     "data": {
      "text/plain": [
       "Year     121\n",
       "Jan       31\n",
       "Feb       30\n",
       "Mar       28\n",
       "April     34\n",
       "May       67\n",
       "June     121\n",
       "July     121\n",
       "Aug      121\n",
       "Sept     121\n",
       "Oct      114\n",
       "Nov       72\n",
       "Dec       33\n",
       "Total    121\n",
       "dtype: int64"
      ]
     },
     "execution_count": 7,
     "metadata": {},
     "output_type": "execute_result"
    }
   ],
   "source": [
    "df.nunique()"
   ]
  },
  {
   "cell_type": "markdown",
   "id": "0fd3d21e-7cb7-4fd9-a5c0-113a2fd45b64",
   "metadata": {},
   "source": [
    "# Exploaring Data Analysis"
   ]
  },
  {
   "cell_type": "markdown",
   "id": "7d77421a-714e-4e86-8afa-46daea4bae0a",
   "metadata": {},
   "source": [
    "EDA allows us to gain a comprehensive overview of the data's structure, uncover potential patterns, and identify key trends. Throughout the EDA process, we will analyze the distribution of individual features, investigate correlations, and explore any inherent relationships between variable.Visualizations will play a crucial role in providing a clear representation of the data, offering insights into customer behavior and identifying the factors that may contribute Cancelation predection."
   ]
  },
  {
   "cell_type": "code",
   "execution_count": 8,
   "id": "6effb32f-6dad-45cc-8681-3a6d23458431",
   "metadata": {},
   "outputs": [
    {
     "data": {
      "text/html": [
       "<div>\n",
       "<style scoped>\n",
       "    .dataframe tbody tr th:only-of-type {\n",
       "        vertical-align: middle;\n",
       "    }\n",
       "\n",
       "    .dataframe tbody tr th {\n",
       "        vertical-align: top;\n",
       "    }\n",
       "\n",
       "    .dataframe thead th {\n",
       "        text-align: right;\n",
       "    }\n",
       "</style>\n",
       "<table border=\"1\" class=\"dataframe\">\n",
       "  <thead>\n",
       "    <tr style=\"text-align: right;\">\n",
       "      <th></th>\n",
       "      <th>Year</th>\n",
       "      <th>Jan</th>\n",
       "      <th>Feb</th>\n",
       "      <th>Mar</th>\n",
       "      <th>April</th>\n",
       "      <th>May</th>\n",
       "      <th>June</th>\n",
       "      <th>July</th>\n",
       "      <th>Aug</th>\n",
       "      <th>Sept</th>\n",
       "      <th>Oct</th>\n",
       "      <th>Nov</th>\n",
       "      <th>Dec</th>\n",
       "      <th>Total</th>\n",
       "    </tr>\n",
       "  </thead>\n",
       "  <tbody>\n",
       "    <tr>\n",
       "      <th>0</th>\n",
       "      <td>1901</td>\n",
       "      <td>13.116602</td>\n",
       "      <td>0.000000</td>\n",
       "      <td>0.000000</td>\n",
       "      <td>3.949669</td>\n",
       "      <td>17.139791</td>\n",
       "      <td>640.714036</td>\n",
       "      <td>888.369692</td>\n",
       "      <td>545.045796</td>\n",
       "      <td>64.271513</td>\n",
       "      <td>9.871696</td>\n",
       "      <td>0.000000</td>\n",
       "      <td>0.000000</td>\n",
       "      <td>2182.478796</td>\n",
       "    </tr>\n",
       "    <tr>\n",
       "      <th>1</th>\n",
       "      <td>1902</td>\n",
       "      <td>0.000000</td>\n",
       "      <td>0.000000</td>\n",
       "      <td>0.000000</td>\n",
       "      <td>0.000000</td>\n",
       "      <td>0.355001</td>\n",
       "      <td>247.998782</td>\n",
       "      <td>408.433730</td>\n",
       "      <td>566.595863</td>\n",
       "      <td>688.913455</td>\n",
       "      <td>28.654092</td>\n",
       "      <td>0.488864</td>\n",
       "      <td>19.526547</td>\n",
       "      <td>1960.966334</td>\n",
       "    </tr>\n",
       "    <tr>\n",
       "      <th>2</th>\n",
       "      <td>1903</td>\n",
       "      <td>0.000000</td>\n",
       "      <td>0.000000</td>\n",
       "      <td>0.844034</td>\n",
       "      <td>0.000000</td>\n",
       "      <td>220.568740</td>\n",
       "      <td>370.849048</td>\n",
       "      <td>902.447896</td>\n",
       "      <td>602.420828</td>\n",
       "      <td>264.589816</td>\n",
       "      <td>157.892877</td>\n",
       "      <td>0.000000</td>\n",
       "      <td>0.000000</td>\n",
       "      <td>2519.613240</td>\n",
       "    </tr>\n",
       "    <tr>\n",
       "      <th>3</th>\n",
       "      <td>1904</td>\n",
       "      <td>0.000000</td>\n",
       "      <td>0.000000</td>\n",
       "      <td>11.381769</td>\n",
       "      <td>0.000000</td>\n",
       "      <td>0.000000</td>\n",
       "      <td>723.081969</td>\n",
       "      <td>390.886799</td>\n",
       "      <td>191.581927</td>\n",
       "      <td>85.704754</td>\n",
       "      <td>38.679948</td>\n",
       "      <td>0.000000</td>\n",
       "      <td>0.000000</td>\n",
       "      <td>1441.317168</td>\n",
       "    </tr>\n",
       "    <tr>\n",
       "      <th>4</th>\n",
       "      <td>1905</td>\n",
       "      <td>0.662561</td>\n",
       "      <td>1.713452</td>\n",
       "      <td>0.000000</td>\n",
       "      <td>0.000000</td>\n",
       "      <td>0.000000</td>\n",
       "      <td>123.870892</td>\n",
       "      <td>581.827975</td>\n",
       "      <td>167.382149</td>\n",
       "      <td>172.297723</td>\n",
       "      <td>7.365924</td>\n",
       "      <td>24.903575</td>\n",
       "      <td>0.000000</td>\n",
       "      <td>1080.024250</td>\n",
       "    </tr>\n",
       "  </tbody>\n",
       "</table>\n",
       "</div>"
      ],
      "text/plain": [
       "   Year        Jan       Feb        Mar     April         May        June  \\\n",
       "0  1901  13.116602  0.000000   0.000000  3.949669   17.139791  640.714036   \n",
       "1  1902   0.000000  0.000000   0.000000  0.000000    0.355001  247.998782   \n",
       "2  1903   0.000000  0.000000   0.844034  0.000000  220.568740  370.849048   \n",
       "3  1904   0.000000  0.000000  11.381769  0.000000    0.000000  723.081969   \n",
       "4  1905   0.662561  1.713452   0.000000  0.000000    0.000000  123.870892   \n",
       "\n",
       "         July         Aug        Sept         Oct        Nov        Dec  \\\n",
       "0  888.369692  545.045796   64.271513    9.871696   0.000000   0.000000   \n",
       "1  408.433730  566.595863  688.913455   28.654092   0.488864  19.526547   \n",
       "2  902.447896  602.420828  264.589816  157.892877   0.000000   0.000000   \n",
       "3  390.886799  191.581927   85.704754   38.679948   0.000000   0.000000   \n",
       "4  581.827975  167.382149  172.297723    7.365924  24.903575   0.000000   \n",
       "\n",
       "         Total  \n",
       "0  2182.478796  \n",
       "1  1960.966334  \n",
       "2  2519.613240  \n",
       "3  1441.317168  \n",
       "4  1080.024250  "
      ]
     },
     "execution_count": 8,
     "metadata": {},
     "output_type": "execute_result"
    }
   ],
   "source": [
    "# check the first 5 rows\n",
    "df.head(5)"
   ]
  },
  {
   "cell_type": "code",
   "execution_count": 9,
   "id": "cfd06ebf-6b96-4e96-bed6-9ec6d087e9c9",
   "metadata": {},
   "outputs": [
    {
     "data": {
      "text/html": [
       "<div>\n",
       "<style scoped>\n",
       "    .dataframe tbody tr th:only-of-type {\n",
       "        vertical-align: middle;\n",
       "    }\n",
       "\n",
       "    .dataframe tbody tr th {\n",
       "        vertical-align: top;\n",
       "    }\n",
       "\n",
       "    .dataframe thead th {\n",
       "        text-align: right;\n",
       "    }\n",
       "</style>\n",
       "<table border=\"1\" class=\"dataframe\">\n",
       "  <thead>\n",
       "    <tr style=\"text-align: right;\">\n",
       "      <th></th>\n",
       "      <th>Year</th>\n",
       "      <th>Jan</th>\n",
       "      <th>Feb</th>\n",
       "      <th>Mar</th>\n",
       "      <th>April</th>\n",
       "      <th>May</th>\n",
       "      <th>June</th>\n",
       "      <th>July</th>\n",
       "      <th>Aug</th>\n",
       "      <th>Sept</th>\n",
       "      <th>Oct</th>\n",
       "      <th>Nov</th>\n",
       "      <th>Dec</th>\n",
       "      <th>Total</th>\n",
       "    </tr>\n",
       "  </thead>\n",
       "  <tbody>\n",
       "    <tr>\n",
       "      <th>116</th>\n",
       "      <td>2017</td>\n",
       "      <td>0.000000</td>\n",
       "      <td>0.000000</td>\n",
       "      <td>0.000000</td>\n",
       "      <td>0.000000</td>\n",
       "      <td>1.04389</td>\n",
       "      <td>584.946748</td>\n",
       "      <td>702.386594</td>\n",
       "      <td>796.997046</td>\n",
       "      <td>539.932782</td>\n",
       "      <td>102.108135</td>\n",
       "      <td>0.000000</td>\n",
       "      <td>79.685446</td>\n",
       "      <td>2807.100642</td>\n",
       "    </tr>\n",
       "    <tr>\n",
       "      <th>117</th>\n",
       "      <td>2018</td>\n",
       "      <td>0.000000</td>\n",
       "      <td>0.000000</td>\n",
       "      <td>0.000000</td>\n",
       "      <td>0.000000</td>\n",
       "      <td>0.00000</td>\n",
       "      <td>846.855987</td>\n",
       "      <td>913.470461</td>\n",
       "      <td>228.590420</td>\n",
       "      <td>78.935944</td>\n",
       "      <td>13.354574</td>\n",
       "      <td>8.939212</td>\n",
       "      <td>0.000000</td>\n",
       "      <td>2090.146599</td>\n",
       "    </tr>\n",
       "    <tr>\n",
       "      <th>118</th>\n",
       "      <td>2019</td>\n",
       "      <td>0.000000</td>\n",
       "      <td>0.000000</td>\n",
       "      <td>0.000000</td>\n",
       "      <td>0.000000</td>\n",
       "      <td>0.00000</td>\n",
       "      <td>412.763730</td>\n",
       "      <td>1302.466441</td>\n",
       "      <td>479.834603</td>\n",
       "      <td>987.796660</td>\n",
       "      <td>92.008442</td>\n",
       "      <td>57.014501</td>\n",
       "      <td>1.172425</td>\n",
       "      <td>3333.056801</td>\n",
       "    </tr>\n",
       "    <tr>\n",
       "      <th>119</th>\n",
       "      <td>2020</td>\n",
       "      <td>0.000000</td>\n",
       "      <td>0.000000</td>\n",
       "      <td>0.104274</td>\n",
       "      <td>0.000000</td>\n",
       "      <td>0.00000</td>\n",
       "      <td>439.814569</td>\n",
       "      <td>1328.766631</td>\n",
       "      <td>1182.080688</td>\n",
       "      <td>411.247678</td>\n",
       "      <td>184.458385</td>\n",
       "      <td>0.000000</td>\n",
       "      <td>16.787305</td>\n",
       "      <td>3563.259531</td>\n",
       "    </tr>\n",
       "    <tr>\n",
       "      <th>120</th>\n",
       "      <td>2021</td>\n",
       "      <td>0.727235</td>\n",
       "      <td>0.825876</td>\n",
       "      <td>0.010660</td>\n",
       "      <td>0.002233</td>\n",
       "      <td>219.07506</td>\n",
       "      <td>796.307275</td>\n",
       "      <td>981.146645</td>\n",
       "      <td>323.199896</td>\n",
       "      <td>601.247517</td>\n",
       "      <td>36.040432</td>\n",
       "      <td>25.156942</td>\n",
       "      <td>90.044602</td>\n",
       "      <td>3073.784373</td>\n",
       "    </tr>\n",
       "  </tbody>\n",
       "</table>\n",
       "</div>"
      ],
      "text/plain": [
       "     Year       Jan       Feb       Mar     April        May        June  \\\n",
       "116  2017  0.000000  0.000000  0.000000  0.000000    1.04389  584.946748   \n",
       "117  2018  0.000000  0.000000  0.000000  0.000000    0.00000  846.855987   \n",
       "118  2019  0.000000  0.000000  0.000000  0.000000    0.00000  412.763730   \n",
       "119  2020  0.000000  0.000000  0.104274  0.000000    0.00000  439.814569   \n",
       "120  2021  0.727235  0.825876  0.010660  0.002233  219.07506  796.307275   \n",
       "\n",
       "            July          Aug        Sept         Oct        Nov        Dec  \\\n",
       "116   702.386594   796.997046  539.932782  102.108135   0.000000  79.685446   \n",
       "117   913.470461   228.590420   78.935944   13.354574   8.939212   0.000000   \n",
       "118  1302.466441   479.834603  987.796660   92.008442  57.014501   1.172425   \n",
       "119  1328.766631  1182.080688  411.247678  184.458385   0.000000  16.787305   \n",
       "120   981.146645   323.199896  601.247517   36.040432  25.156942  90.044602   \n",
       "\n",
       "           Total  \n",
       "116  2807.100642  \n",
       "117  2090.146599  \n",
       "118  3333.056801  \n",
       "119  3563.259531  \n",
       "120  3073.784373  "
      ]
     },
     "execution_count": 9,
     "metadata": {},
     "output_type": "execute_result"
    }
   ],
   "source": [
    "# check the last 5 rows\n",
    "df.tail(5)"
   ]
  },
  {
   "cell_type": "code",
   "execution_count": 10,
   "id": "f485e36b-397f-429c-8ff3-a7c6b8c267a7",
   "metadata": {},
   "outputs": [
    {
     "data": {
      "text/plain": [
       "Index(['Year', 'Jan', 'Feb', 'Mar', 'April', 'May', 'June', 'July', 'Aug',\n",
       "       'Sept', 'Oct', 'Nov', 'Dec', 'Total'],\n",
       "      dtype='object')"
      ]
     },
     "execution_count": 10,
     "metadata": {},
     "output_type": "execute_result"
    }
   ],
   "source": [
    "df.columns"
   ]
  },
  {
   "cell_type": "markdown",
   "id": "bb182cdd-f906-4f89-b082-d5aed4bcc970",
   "metadata": {},
   "source": [
    "# Checking the duplicated & Null Values"
   ]
  },
  {
   "cell_type": "markdown",
   "id": "2b7fc96c-12cc-49f4-b3d4-7b34db1d4f0d",
   "metadata": {},
   "source": [
    "Before moving further with the analysis, it is essential to ensure the integrity of our dataset. We will begin by examining for any missing values and identifying potential duplicate.This step is crucial for maintaining data quality and setting the foundation for a robust exploratory data analysis (EDA) and subsequent machine learning detectiont."
   ]
  },
  {
   "cell_type": "code",
   "execution_count": 11,
   "id": "1250e433-234b-4b69-96e2-77d13125b14a",
   "metadata": {},
   "outputs": [
    {
     "data": {
      "text/plain": [
       "0"
      ]
     },
     "execution_count": 11,
     "metadata": {},
     "output_type": "execute_result"
    }
   ],
   "source": [
    "df.duplicated().sum()"
   ]
  },
  {
   "cell_type": "code",
   "execution_count": 12,
   "id": "bbc2856f-39a3-404e-ad36-4e305ebdb3e0",
   "metadata": {},
   "outputs": [
    {
     "data": {
      "text/plain": [
       "Year     0\n",
       "Jan      0\n",
       "Feb      0\n",
       "Mar      0\n",
       "April    0\n",
       "May      0\n",
       "June     0\n",
       "July     0\n",
       "Aug      0\n",
       "Sept     0\n",
       "Oct      0\n",
       "Nov      0\n",
       "Dec      0\n",
       "Total    0\n",
       "dtype: int64"
      ]
     },
     "execution_count": 12,
     "metadata": {},
     "output_type": "execute_result"
    }
   ],
   "source": [
    "df.isna().sum()"
   ]
  },
  {
   "cell_type": "code",
   "execution_count": 13,
   "id": "bafd7329-6d01-4215-947a-dc8123a57a80",
   "metadata": {},
   "outputs": [
    {
     "name": "stdout",
     "output_type": "stream",
     "text": [
      "<class 'pandas.core.frame.DataFrame'>\n",
      "RangeIndex: 121 entries, 0 to 120\n",
      "Data columns (total 14 columns):\n",
      " #   Column  Non-Null Count  Dtype  \n",
      "---  ------  --------------  -----  \n",
      " 0   Year    121 non-null    int64  \n",
      " 1   Jan     121 non-null    float64\n",
      " 2   Feb     121 non-null    float64\n",
      " 3   Mar     121 non-null    float64\n",
      " 4   April   121 non-null    float64\n",
      " 5   May     121 non-null    float64\n",
      " 6   June    121 non-null    float64\n",
      " 7   July    121 non-null    float64\n",
      " 8   Aug     121 non-null    float64\n",
      " 9   Sept    121 non-null    float64\n",
      " 10  Oct     121 non-null    float64\n",
      " 11  Nov     121 non-null    float64\n",
      " 12  Dec     121 non-null    float64\n",
      " 13  Total   121 non-null    float64\n",
      "dtypes: float64(13), int64(1)\n",
      "memory usage: 13.4 KB\n"
     ]
    }
   ],
   "source": [
    "df.info()"
   ]
  },
  {
   "cell_type": "markdown",
   "id": "84a425f2-a345-4613-9f25-191e0041ce42",
   "metadata": {},
   "source": [
    "Our dataset does not have any null values and duplicates.Now we can proceed with confidence, knowing that our dataset is ready for further analysis."
   ]
  },
  {
   "cell_type": "markdown",
   "id": "fe7caac5-b5e6-4bac-a1c0-44bc385d8e10",
   "metadata": {},
   "source": [
    "# Data Visualization"
   ]
  },
  {
   "cell_type": "code",
   "execution_count": 14,
   "id": "1d9a33c2-e4ce-4f56-80ea-4b2beefb3460",
   "metadata": {},
   "outputs": [
    {
     "name": "stdout",
     "output_type": "stream",
     "text": [
      "Annual Average Rainfall: 2168.12 mm\n",
      "Maximum Annual Rainfall: 3563.26 mm\n",
      "Minimum Annual Rainfall: 1058.84 mm\n"
     ]
    }
   ],
   "source": [
    "# Calculate annual averages and other statistics\n",
    "annual_avg = df['Total'].mean()\n",
    "annual_max = df['Total'].max()\n",
    "annual_min = df['Total'].min()\n",
    "\n",
    "print(f\"Annual Average Rainfall: {annual_avg:.2f} mm\")\n",
    "print(f\"Maximum Annual Rainfall: {annual_max:.2f} mm\")\n",
    "print(f\"Minimum Annual Rainfall: {annual_min:.2f} mm\")"
   ]
  },
  {
   "cell_type": "markdown",
   "id": "1b59f586-89b3-46d9-8d4a-ca4da444753f",
   "metadata": {},
   "source": [
    "#### 1. Total Rainfall Over the Year"
   ]
  },
  {
   "cell_type": "code",
   "execution_count": 15,
   "id": "4679343b-f015-4355-ba71-fa4e20d48a41",
   "metadata": {},
   "outputs": [
    {
     "data": {
      "image/png": "[encoded data removed]",
      "text/plain": [
       "<Figure size 1800x800 with 1 Axes>"
      ]
     },
     "metadata": {},
     "output_type": "display_data"
    }
   ],
   "source": [
    "# Plotting Total Rainfall Over the Years\n",
    "plt.figure(figsize=(18, 8))\n",
    "plt.plot(df['Year'], df['Total'], marker='o')\n",
    "plt.title('Total Annual Rainfall in Mumbai (1901-2021)')\n",
    "plt.xlabel('Year')\n",
    "plt.ylabel('Total Rainfall (mm)')\n",
    "plt.grid()\n",
    "plt.xticks(df['Year'], rotation=90)\n",
    "plt.show()"
   ]
  },
  {
   "cell_type": "markdown",
   "id": "55f61779-ed01-420d-ba6b-509e12b94da4",
   "metadata": {},
   "source": [
    "#### 2. Monthly Rainfall Analysis"
   ]
  },
  {
   "cell_type": "code",
   "execution_count": 16,
   "id": "dac5ce35-2282-49a8-9093-9ed8305ec73d",
   "metadata": {},
   "outputs": [
    {
     "data": {
      "image/png": "[encoded data removed]",
      "text/plain": [
       "<Figure size 1000x600 with 1 Axes>"
      ]
     },
     "metadata": {},
     "output_type": "display_data"
    }
   ],
   "source": [
    "# Monthly Rainfall Analysis\n",
    "monthly_avg = df.iloc[:, 1:-1].mean()\n",
    "plt.figure(figsize=(10, 6))\n",
    "monthly_avg.plot(kind='bar')\n",
    "plt.title('Average Monthly Rainfall in Mumbai (1901-2021)')\n",
    "plt.xlabel('Month')\n",
    "plt.ylabel('Average Rainfall (mm)')\n",
    "plt.xticks(rotation=90)\n",
    "plt.show()"
   ]
  },
  {
   "cell_type": "markdown",
   "id": "6c45fb66-7a47-4a80-acc7-b2acd44c9573",
   "metadata": {},
   "source": [
    "#### 3.monthly rainfall distribution"
   ]
  },
  {
   "cell_type": "code",
   "execution_count": 17,
   "id": "9ead2571-2eed-47ed-8711-2252a107692b",
   "metadata": {},
   "outputs": [
    {
     "data": {
      "image/png": "[encoded data removed]",
      "text/plain": [
       "<Figure size 1200x600 with 1 Axes>"
      ]
     },
     "metadata": {},
     "output_type": "display_data"
    }
   ],
   "source": [
    "# Box plot for monthly rainfall distribution\n",
    "monthly_data = df.iloc[:, 1:-1]\n",
    "plt.figure(figsize=(12, 6))\n",
    "monthly_data.boxplot()\n",
    "plt.title('Monthly Rainfall Distribution in Mumbai (1901-2021)')\n",
    "plt.ylabel('Rainfall (mm)')\n",
    "plt.xlabel('Month')\n",
    "plt.xticks(rotation=90)\n",
    "plt.grid()\n",
    "plt.show()"
   ]
  },
  {
   "cell_type": "markdown",
   "id": "bc2a4814-f96c-44c9-824b-12ea5a17d8e5",
   "metadata": {},
   "source": [
    "# Average Seasonal Rainfall in Mumbai (1901-2021)"
   ]
  },
  {
   "cell_type": "code",
   "execution_count": 18,
   "id": "e4245709-d3db-42b7-aef2-99bfa46de2bc",
   "metadata": {},
   "outputs": [
    {
     "data": {
      "image/png": "[encoded data removed]",
      "text/plain": [
       "<Figure size 1000x400 with 1 Axes>"
      ]
     },
     "metadata": {},
     "output_type": "display_data"
    }
   ],
   "source": [
    "# A bar chart comparing average rainfall for different seasons\n",
    "seasons = {\n",
    "    'Pre-Monsoon': df[['Jan', 'Feb', 'Mar', 'April', 'May']].sum(axis=1),\n",
    "    'Monsoon': df[['June', 'July', 'Aug', 'Sept']].sum(axis=1),\n",
    "    'Post-Monsoon': df[['Oct', 'Nov', 'Dec']].sum(axis=1)\n",
    "}\n",
    "seasonal_data = pd.DataFrame(seasons)\n",
    "# Bar chart\n",
    "seasonal_means = seasonal_data.mean()\n",
    "plt.figure(figsize=(10, 4))\n",
    "seasonal_means.plot(kind='bar', color=['lightcoral', 'skyblue', 'lightgreen'])\n",
    "plt.title('Average Seasonal Rainfall in Mumbai (1901-2021)')\n",
    "plt.ylabel('Average Rainfall (mm)')\n",
    "plt.xlabel('Season')\n",
    "plt.xticks(rotation= 0)\n",
    "plt.show()"
   ]
  },
  {
   "cell_type": "markdown",
   "id": "44fb95c5-32eb-4576-ae2e-9921c20741c5",
   "metadata": {},
   "source": [
    "Here Average Seasonal Rainfall in Mumbai(1901-2021) Moonsoon Season is higest rain fall in that particular year compare pre-Monsoon & Post- Moonsoon"
   ]
  },
  {
   "cell_type": "markdown",
   "id": "63c62344-25d3-4518-833d-c44dda567c76",
   "metadata": {},
   "source": [
    "# Correlation Heatmap"
   ]
  },
  {
   "cell_type": "code",
   "execution_count": 19,
   "id": "a79c4e61-d3fe-47cf-be6a-fa8835dff035",
   "metadata": {},
   "outputs": [],
   "source": [
    "from sklearn.preprocessing import LabelEncoder"
   ]
  },
  {
   "cell_type": "code",
   "execution_count": 20,
   "id": "e16f573f-6a1a-43f8-82e9-67dd60ce1e80",
   "metadata": {},
   "outputs": [],
   "source": [
    "le = LabelEncoder()"
   ]
  },
  {
   "cell_type": "code",
   "execution_count": 21,
   "id": "3911352d-8637-4617-a27b-c84cd7099832",
   "metadata": {},
   "outputs": [],
   "source": [
    "correlation_matrix = df.corr()"
   ]
  },
  {
   "cell_type": "code",
   "execution_count": 22,
   "id": "23325870-5b31-4869-b32b-795305d64bec",
   "metadata": {},
   "outputs": [
    {
     "data": {
      "image/png": "[encoded data removed]",
      "text/plain": [
       "<Figure size 1000x1000 with 2 Axes>"
      ]
     },
     "metadata": {},
     "output_type": "display_data"
    }
   ],
   "source": [
    "plt.figure(figsize=(10,10))\n",
    "sns.heatmap(correlation_matrix,annot =True,cmap= 'viridis', fmt=\".2f\")\n",
    "plt.title(\"Correlation Matrix Heatmap\")\n",
    "plt.show()"
   ]
  },
  {
   "cell_type": "markdown",
   "id": "17e79f3a-6b92-4703-9b65-7fe83f6bad75",
   "metadata": {},
   "source": [
    "# Analyze the Distribution of the Target Variable"
   ]
  },
  {
   "cell_type": "code",
   "execution_count": 23,
   "id": "a006e98a-ee6a-486d-a470-8d0640b7fcf1",
   "metadata": {},
   "outputs": [],
   "source": [
    "# Select two months for analysis, e.g., July and August\n",
    "month1 = 'July'\n",
    "month2 = 'Aug'"
   ]
  },
  {
   "cell_type": "code",
   "execution_count": 24,
   "id": "e975dd18-0071-4947-9906-d7bc3929587c",
   "metadata": {},
   "outputs": [
    {
     "data": {
      "text/plain": [
       "<Figure size 1400x600 with 0 Axes>"
      ]
     },
     "execution_count": 24,
     "metadata": {},
     "output_type": "execute_result"
    },
    {
     "data": {
      "text/plain": [
       "<Figure size 1400x600 with 0 Axes>"
      ]
     },
     "metadata": {},
     "output_type": "display_data"
    }
   ],
   "source": [
    "# Set up the plot canvas\n",
    "plt.figure(figsize=(14, 6))"
   ]
  },
  {
   "cell_type": "code",
   "execution_count": 25,
   "id": "76e3226e-770d-443a-a510-aef4bbcab760",
   "metadata": {},
   "outputs": [
    {
     "data": {
      "text/plain": [
       "<matplotlib.legend.Legend at 0x244f8231d60>"
      ]
     },
     "execution_count": 25,
     "metadata": {},
     "output_type": "execute_result"
    },
    {
     "data": {
      "image/png": "[encoded data removed]",
      "text/plain": [
       "<Figure size 640x480 with 1 Axes>"
      ]
     },
     "metadata": {},
     "output_type": "display_data"
    }
   ],
   "source": [
    "# Plot for the first month\n",
    "plt.subplot(1, 2, 1)\n",
    "sns.histplot(df[month1], kde=True, bins=15, color='skyblue', label=f'{month1} Rainfall')\n",
    "plt.title(f'Distribution of {month1} Rainfall')\n",
    "plt.xlabel('Rainfall (mm)')\n",
    "plt.ylabel('Frequency')\n",
    "plt.legend()"
   ]
  },
  {
   "cell_type": "code",
   "execution_count": 26,
   "id": "7c3131b7-2b10-4f07-a72b-e9c4c3aa0aa4",
   "metadata": {},
   "outputs": [
    {
     "data": {
      "text/plain": [
       "<matplotlib.legend.Legend at 0x244f80a6660>"
      ]
     },
     "execution_count": 26,
     "metadata": {},
     "output_type": "execute_result"
    },
    {
     "data": {
      "image/png": "[encoded data removed]",
      "text/plain": [
       "<Figure size 640x480 with 1 Axes>"
      ]
     },
     "metadata": {},
     "output_type": "display_data"
    }
   ],
   "source": [
    "# Plot for the second month\n",
    "plt.subplot(1, 2, 2)\n",
    "sns.histplot(df[month2], kde=True, bins=15, color='orange', label=f'{month2} Rainfall')\n",
    "plt.title(f'Distribution of {month2} Rainfall')\n",
    "plt.xlabel('Rainfall (mm)')\n",
    "plt.ylabel('Frequency')\n",
    "plt.legend()"
   ]
  },
  {
   "cell_type": "markdown",
   "id": "b35704aa-5a6f-41a2-ac91-5e4db22dcc4f",
   "metadata": {},
   "source": [
    "# Encoding Categorical Variables"
   ]
  },
  {
   "cell_type": "markdown",
   "id": "ee6f816d-f649-4ffa-b9c2-68707b14ed50",
   "metadata": {},
   "source": [
    "To convert categorical data into numerical, we will use the one-hot encoding technique. This process involves assigning binary numeric values to each unique class present in columns with categorical data. By creating binary columns for each category, we ensure that our models can effectively interpret and utilize the categorical information during training and prediction."
   ]
  },
  {
   "cell_type": "code",
   "execution_count": 27,
   "id": "d1f80eb5-8a57-4dad-8ed2-07fbe5c82c11",
   "metadata": {},
   "outputs": [
    {
     "data": {
      "text/html": [
       "<div>\n",
       "<style scoped>\n",
       "    .dataframe tbody tr th:only-of-type {\n",
       "        vertical-align: middle;\n",
       "    }\n",
       "\n",
       "    .dataframe tbody tr th {\n",
       "        vertical-align: top;\n",
       "    }\n",
       "\n",
       "    .dataframe thead th {\n",
       "        text-align: right;\n",
       "    }\n",
       "</style>\n",
       "<table border=\"1\" class=\"dataframe\">\n",
       "  <thead>\n",
       "    <tr style=\"text-align: right;\">\n",
       "      <th></th>\n",
       "      <th>Year</th>\n",
       "      <th>Jan</th>\n",
       "      <th>Feb</th>\n",
       "      <th>Mar</th>\n",
       "      <th>April</th>\n",
       "      <th>May</th>\n",
       "      <th>June</th>\n",
       "      <th>July</th>\n",
       "      <th>Aug</th>\n",
       "      <th>Sept</th>\n",
       "      <th>Oct</th>\n",
       "      <th>Nov</th>\n",
       "      <th>Dec</th>\n",
       "      <th>Total</th>\n",
       "    </tr>\n",
       "  </thead>\n",
       "  <tbody>\n",
       "    <tr>\n",
       "      <th>0</th>\n",
       "      <td>1901</td>\n",
       "      <td>13.116602</td>\n",
       "      <td>0.000000</td>\n",
       "      <td>0.000000</td>\n",
       "      <td>3.949669</td>\n",
       "      <td>17.139791</td>\n",
       "      <td>640.714036</td>\n",
       "      <td>888.369692</td>\n",
       "      <td>545.045796</td>\n",
       "      <td>64.271513</td>\n",
       "      <td>9.871696</td>\n",
       "      <td>0.000000</td>\n",
       "      <td>0.000000</td>\n",
       "      <td>2182.478796</td>\n",
       "    </tr>\n",
       "    <tr>\n",
       "      <th>1</th>\n",
       "      <td>1902</td>\n",
       "      <td>0.000000</td>\n",
       "      <td>0.000000</td>\n",
       "      <td>0.000000</td>\n",
       "      <td>0.000000</td>\n",
       "      <td>0.355001</td>\n",
       "      <td>247.998782</td>\n",
       "      <td>408.433730</td>\n",
       "      <td>566.595863</td>\n",
       "      <td>688.913455</td>\n",
       "      <td>28.654092</td>\n",
       "      <td>0.488864</td>\n",
       "      <td>19.526547</td>\n",
       "      <td>1960.966334</td>\n",
       "    </tr>\n",
       "    <tr>\n",
       "      <th>2</th>\n",
       "      <td>1903</td>\n",
       "      <td>0.000000</td>\n",
       "      <td>0.000000</td>\n",
       "      <td>0.844034</td>\n",
       "      <td>0.000000</td>\n",
       "      <td>220.568740</td>\n",
       "      <td>370.849048</td>\n",
       "      <td>902.447896</td>\n",
       "      <td>602.420828</td>\n",
       "      <td>264.589816</td>\n",
       "      <td>157.892877</td>\n",
       "      <td>0.000000</td>\n",
       "      <td>0.000000</td>\n",
       "      <td>2519.613240</td>\n",
       "    </tr>\n",
       "    <tr>\n",
       "      <th>3</th>\n",
       "      <td>1904</td>\n",
       "      <td>0.000000</td>\n",
       "      <td>0.000000</td>\n",
       "      <td>11.381769</td>\n",
       "      <td>0.000000</td>\n",
       "      <td>0.000000</td>\n",
       "      <td>723.081969</td>\n",
       "      <td>390.886799</td>\n",
       "      <td>191.581927</td>\n",
       "      <td>85.704754</td>\n",
       "      <td>38.679948</td>\n",
       "      <td>0.000000</td>\n",
       "      <td>0.000000</td>\n",
       "      <td>1441.317168</td>\n",
       "    </tr>\n",
       "    <tr>\n",
       "      <th>4</th>\n",
       "      <td>1905</td>\n",
       "      <td>0.662561</td>\n",
       "      <td>1.713452</td>\n",
       "      <td>0.000000</td>\n",
       "      <td>0.000000</td>\n",
       "      <td>0.000000</td>\n",
       "      <td>123.870892</td>\n",
       "      <td>581.827975</td>\n",
       "      <td>167.382149</td>\n",
       "      <td>172.297723</td>\n",
       "      <td>7.365924</td>\n",
       "      <td>24.903575</td>\n",
       "      <td>0.000000</td>\n",
       "      <td>1080.024250</td>\n",
       "    </tr>\n",
       "  </tbody>\n",
       "</table>\n",
       "</div>"
      ],
      "text/plain": [
       "   Year        Jan       Feb        Mar     April         May        June  \\\n",
       "0  1901  13.116602  0.000000   0.000000  3.949669   17.139791  640.714036   \n",
       "1  1902   0.000000  0.000000   0.000000  0.000000    0.355001  247.998782   \n",
       "2  1903   0.000000  0.000000   0.844034  0.000000  220.568740  370.849048   \n",
       "3  1904   0.000000  0.000000  11.381769  0.000000    0.000000  723.081969   \n",
       "4  1905   0.662561  1.713452   0.000000  0.000000    0.000000  123.870892   \n",
       "\n",
       "         July         Aug        Sept         Oct        Nov        Dec  \\\n",
       "0  888.369692  545.045796   64.271513    9.871696   0.000000   0.000000   \n",
       "1  408.433730  566.595863  688.913455   28.654092   0.488864  19.526547   \n",
       "2  902.447896  602.420828  264.589816  157.892877   0.000000   0.000000   \n",
       "3  390.886799  191.581927   85.704754   38.679948   0.000000   0.000000   \n",
       "4  581.827975  167.382149  172.297723    7.365924  24.903575   0.000000   \n",
       "\n",
       "         Total  \n",
       "0  2182.478796  \n",
       "1  1960.966334  \n",
       "2  2519.613240  \n",
       "3  1441.317168  \n",
       "4  1080.024250  "
      ]
     },
     "execution_count": 27,
     "metadata": {},
     "output_type": "execute_result"
    }
   ],
   "source": [
    "#Let's convert all the categorical variables into dummy variables\n",
    "df_dummies = pd.get_dummies(df)\n",
    "df_dummies.head()"
   ]
  },
  {
   "cell_type": "code",
   "execution_count": 28,
   "id": "bafe19b6-55d0-4a32-a6b2-160c1fef9096",
   "metadata": {},
   "outputs": [
    {
     "data": {
      "text/html": [
       "<div>\n",
       "<style scoped>\n",
       "    .dataframe tbody tr th:only-of-type {\n",
       "        vertical-align: middle;\n",
       "    }\n",
       "\n",
       "    .dataframe tbody tr th {\n",
       "        vertical-align: top;\n",
       "    }\n",
       "\n",
       "    .dataframe thead th {\n",
       "        text-align: right;\n",
       "    }\n",
       "</style>\n",
       "<table border=\"1\" class=\"dataframe\">\n",
       "  <thead>\n",
       "    <tr style=\"text-align: right;\">\n",
       "      <th></th>\n",
       "      <th>Year</th>\n",
       "      <th>Jan</th>\n",
       "      <th>Feb</th>\n",
       "      <th>Mar</th>\n",
       "      <th>April</th>\n",
       "      <th>May</th>\n",
       "      <th>June</th>\n",
       "      <th>July</th>\n",
       "      <th>Aug</th>\n",
       "      <th>Sept</th>\n",
       "      <th>Oct</th>\n",
       "      <th>Nov</th>\n",
       "      <th>Dec</th>\n",
       "      <th>Total</th>\n",
       "    </tr>\n",
       "  </thead>\n",
       "  <tbody>\n",
       "    <tr>\n",
       "      <th>116</th>\n",
       "      <td>2017</td>\n",
       "      <td>0.000000</td>\n",
       "      <td>0.000000</td>\n",
       "      <td>0.000000</td>\n",
       "      <td>0.000000</td>\n",
       "      <td>1.04389</td>\n",
       "      <td>584.946748</td>\n",
       "      <td>702.386594</td>\n",
       "      <td>796.997046</td>\n",
       "      <td>539.932782</td>\n",
       "      <td>102.108135</td>\n",
       "      <td>0.000000</td>\n",
       "      <td>79.685446</td>\n",
       "      <td>2807.100642</td>\n",
       "    </tr>\n",
       "    <tr>\n",
       "      <th>117</th>\n",
       "      <td>2018</td>\n",
       "      <td>0.000000</td>\n",
       "      <td>0.000000</td>\n",
       "      <td>0.000000</td>\n",
       "      <td>0.000000</td>\n",
       "      <td>0.00000</td>\n",
       "      <td>846.855987</td>\n",
       "      <td>913.470461</td>\n",
       "      <td>228.590420</td>\n",
       "      <td>78.935944</td>\n",
       "      <td>13.354574</td>\n",
       "      <td>8.939212</td>\n",
       "      <td>0.000000</td>\n",
       "      <td>2090.146599</td>\n",
       "    </tr>\n",
       "    <tr>\n",
       "      <th>118</th>\n",
       "      <td>2019</td>\n",
       "      <td>0.000000</td>\n",
       "      <td>0.000000</td>\n",
       "      <td>0.000000</td>\n",
       "      <td>0.000000</td>\n",
       "      <td>0.00000</td>\n",
       "      <td>412.763730</td>\n",
       "      <td>1302.466441</td>\n",
       "      <td>479.834603</td>\n",
       "      <td>987.796660</td>\n",
       "      <td>92.008442</td>\n",
       "      <td>57.014501</td>\n",
       "      <td>1.172425</td>\n",
       "      <td>3333.056801</td>\n",
       "    </tr>\n",
       "    <tr>\n",
       "      <th>119</th>\n",
       "      <td>2020</td>\n",
       "      <td>0.000000</td>\n",
       "      <td>0.000000</td>\n",
       "      <td>0.104274</td>\n",
       "      <td>0.000000</td>\n",
       "      <td>0.00000</td>\n",
       "      <td>439.814569</td>\n",
       "      <td>1328.766631</td>\n",
       "      <td>1182.080688</td>\n",
       "      <td>411.247678</td>\n",
       "      <td>184.458385</td>\n",
       "      <td>0.000000</td>\n",
       "      <td>16.787305</td>\n",
       "      <td>3563.259531</td>\n",
       "    </tr>\n",
       "    <tr>\n",
       "      <th>120</th>\n",
       "      <td>2021</td>\n",
       "      <td>0.727235</td>\n",
       "      <td>0.825876</td>\n",
       "      <td>0.010660</td>\n",
       "      <td>0.002233</td>\n",
       "      <td>219.07506</td>\n",
       "      <td>796.307275</td>\n",
       "      <td>981.146645</td>\n",
       "      <td>323.199896</td>\n",
       "      <td>601.247517</td>\n",
       "      <td>36.040432</td>\n",
       "      <td>25.156942</td>\n",
       "      <td>90.044602</td>\n",
       "      <td>3073.784373</td>\n",
       "    </tr>\n",
       "  </tbody>\n",
       "</table>\n",
       "</div>"
      ],
      "text/plain": [
       "     Year       Jan       Feb       Mar     April        May        June  \\\n",
       "116  2017  0.000000  0.000000  0.000000  0.000000    1.04389  584.946748   \n",
       "117  2018  0.000000  0.000000  0.000000  0.000000    0.00000  846.855987   \n",
       "118  2019  0.000000  0.000000  0.000000  0.000000    0.00000  412.763730   \n",
       "119  2020  0.000000  0.000000  0.104274  0.000000    0.00000  439.814569   \n",
       "120  2021  0.727235  0.825876  0.010660  0.002233  219.07506  796.307275   \n",
       "\n",
       "            July          Aug        Sept         Oct        Nov        Dec  \\\n",
       "116   702.386594   796.997046  539.932782  102.108135   0.000000  79.685446   \n",
       "117   913.470461   228.590420   78.935944   13.354574   8.939212   0.000000   \n",
       "118  1302.466441   479.834603  987.796660   92.008442  57.014501   1.172425   \n",
       "119  1328.766631  1182.080688  411.247678  184.458385   0.000000  16.787305   \n",
       "120   981.146645   323.199896  601.247517   36.040432  25.156942  90.044602   \n",
       "\n",
       "           Total  \n",
       "116  2807.100642  \n",
       "117  2090.146599  \n",
       "118  3333.056801  \n",
       "119  3563.259531  \n",
       "120  3073.784373  "
      ]
     },
     "execution_count": 28,
     "metadata": {},
     "output_type": "execute_result"
    }
   ],
   "source": [
    "df_dummies = pd.get_dummies(df)\n",
    "df_dummies.tail()"
   ]
  },
  {
   "cell_type": "code",
   "execution_count": 29,
   "id": "e4b8cd70-857a-47ba-886f-1cb2a322f240",
   "metadata": {},
   "outputs": [
    {
     "name": "stdout",
     "output_type": "stream",
     "text": [
      "<class 'pandas.core.frame.DataFrame'>\n",
      "RangeIndex: 121 entries, 0 to 120\n",
      "Data columns (total 14 columns):\n",
      " #   Column  Non-Null Count  Dtype  \n",
      "---  ------  --------------  -----  \n",
      " 0   Year    121 non-null    int64  \n",
      " 1   Jan     121 non-null    float64\n",
      " 2   Feb     121 non-null    float64\n",
      " 3   Mar     121 non-null    float64\n",
      " 4   April   121 non-null    float64\n",
      " 5   May     121 non-null    float64\n",
      " 6   June    121 non-null    float64\n",
      " 7   July    121 non-null    float64\n",
      " 8   Aug     121 non-null    float64\n",
      " 9   Sept    121 non-null    float64\n",
      " 10  Oct     121 non-null    float64\n",
      " 11  Nov     121 non-null    float64\n",
      " 12  Dec     121 non-null    float64\n",
      " 13  Total   121 non-null    float64\n",
      "dtypes: float64(13), int64(1)\n",
      "memory usage: 13.4 KB\n"
     ]
    }
   ],
   "source": [
    "df.info()"
   ]
  },
  {
   "cell_type": "markdown",
   "id": "cc8376b7-c201-4a2e-9c62-6918db3e5071",
   "metadata": {},
   "source": [
    "# Splitting the data into x and y"
   ]
  },
  {
   "cell_type": "markdown",
   "id": "66d58680-2634-4566-bfc1-5b147e399e01",
   "metadata": {},
   "source": [
    "Now, we partition the dataset into two components: x and y. The variable x encompasses all independent variables, representing the features that contribute to our predictions. On the other hand, y encapsulates the dependent variable or target variable, serving as the outcome we aim to predict."
   ]
  },
  {
   "cell_type": "code",
   "execution_count": 30,
   "id": "e83c2cb0-b449-43f7-b834-77c74967fe2f",
   "metadata": {},
   "outputs": [],
   "source": [
    "from sklearn.model_selection import train_test_split"
   ]
  },
  {
   "cell_type": "code",
   "execution_count": 31,
   "id": "e4ad35b4-5044-43f0-9698-5871dc43734d",
   "metadata": {},
   "outputs": [],
   "source": [
    "x = df.drop(columns=['Total'])  \n",
    "y = df['Total']"
   ]
  },
  {
   "cell_type": "code",
   "execution_count": 32,
   "id": "32888eb4-1240-4e68-86ee-fec1e765217f",
   "metadata": {},
   "outputs": [
    {
     "name": "stdout",
     "output_type": "stream",
     "text": [
      "Shape of x: (121, 13)\n",
      "Shape of y: (121,)\n"
     ]
    }
   ],
   "source": [
    "# Display the shapes of X and y to verify\n",
    "print(\"Shape of x:\", x.shape)\n",
    "print(\"Shape of y:\", y.shape)"
   ]
  },
  {
   "cell_type": "markdown",
   "id": "39218e1c-bcfe-47e6-90ac-da6fb246da03",
   "metadata": {},
   "source": [
    "# Train-Test Split"
   ]
  },
  {
   "cell_type": "markdown",
   "id": "48f457d2-5b80-4e3d-92d7-957c8e3e761d",
   "metadata": {},
   "source": [
    "We'll now split the dataset into training and testing data. We will do an 80:20 split, so our test size will be set to 0.3.We will take Random State as 42. This will guarantee the reproducibility of our results across different runs."
   ]
  },
  {
   "cell_type": "code",
   "execution_count": 33,
   "id": "b2de558b-2d38-4c8f-8007-0465fd1d25bc",
   "metadata": {},
   "outputs": [],
   "source": [
    "x_train, x_test, y_train, y_test = train_test_split(x, y, test_size=0.3, random_state=42)"
   ]
  },
  {
   "cell_type": "code",
   "execution_count": 34,
   "id": "789a0b2d-fca2-44d3-a4fa-f4a103176bda",
   "metadata": {},
   "outputs": [
    {
     "name": "stdout",
     "output_type": "stream",
     "text": [
      "(84, 13)\n",
      "(37, 13)\n",
      "(84,)\n",
      "(37,)\n"
     ]
    }
   ],
   "source": [
    "print(x_train.shape)\n",
    "print(x_test.shape)\n",
    "print(y_train.shape)\n",
    "print(y_test.shape)"
   ]
  },
  {
   "cell_type": "markdown",
   "id": "21ea4afd-9727-43aa-be8a-b134a814a51f",
   "metadata": {},
   "source": [
    "# Standard Scaler"
   ]
  },
  {
   "cell_type": "markdown",
   "id": "447be58c-bf75-4e11-a4d4-176b4f38b309",
   "metadata": {},
   "source": [
    "We will now use Standard Scaler to standardize the features of the dataset. This ensures that the consistency between the features of the dataset is maintained. Standardization is crucial for certain machine learning algorithms, promoting optimal model performance by mitigating the influence of varying magnitudes among features."
   ]
  },
  {
   "cell_type": "code",
   "execution_count": 35,
   "id": "831f89d5-30e9-4f51-b087-067e3d6ea8df",
   "metadata": {},
   "outputs": [],
   "source": [
    "from sklearn.preprocessing import StandardScaler"
   ]
  },
  {
   "cell_type": "code",
   "execution_count": 36,
   "id": "6d7666d8-fd10-4810-bb4b-6b7c0761bc0b",
   "metadata": {},
   "outputs": [],
   "source": [
    "scaler = StandardScaler()"
   ]
  },
  {
   "cell_type": "code",
   "execution_count": 37,
   "id": "72af593a-c0f8-4f11-8ded-bea37cde3b15",
   "metadata": {},
   "outputs": [],
   "source": [
    "x_train = scaler.fit_transform(x_train)\n",
    "x_test = scaler.transform(x_test)"
   ]
  },
  {
   "cell_type": "code",
   "execution_count": 38,
   "id": "c2c568a0-84ba-4935-b7d1-9d8c27ea37eb",
   "metadata": {},
   "outputs": [],
   "source": [
    "# Normalize the data for KNN\n",
    "scaler = StandardScaler()\n",
    "x_train_scaled = scaler.fit_transform(x_train)\n",
    "x_test_scaled = scaler.transform(x_test)"
   ]
  },
  {
   "cell_type": "code",
   "execution_count": 39,
   "id": "67b3b282-808d-47e2-a338-b3381899a101",
   "metadata": {},
   "outputs": [
    {
     "data": {
      "text/plain": [
       "array([[-0.24456411, -0.21407559,  1.89610513, ..., -0.27192674,\n",
       "        -0.46983873, -0.15385117],\n",
       "       [ 1.65973843, -0.23016558, -0.3325067 , ...,  1.14481255,\n",
       "        -0.46983873,  0.82656216],\n",
       "       [-1.51409913, -0.23016558, -0.3325067 , ...,  0.07638068,\n",
       "        -0.18410481, -0.32954609],\n",
       "       ...,\n",
       "       [ 0.88070557, -0.23016558, -0.3325067 , ...,  0.23320243,\n",
       "        -0.02352023, -0.31937415],\n",
       "       [-0.30227024, -0.23016558, -0.3325067 , ..., -0.12364828,\n",
       "        -0.46983873, -0.32954609],\n",
       "       [ 1.16923626, -0.23016558,  0.21309633, ..., -0.66803848,\n",
       "        -0.46983873, -0.32954609]])"
      ]
     },
     "execution_count": 39,
     "metadata": {},
     "output_type": "execute_result"
    }
   ],
   "source": [
    "x_train"
   ]
  },
  {
   "cell_type": "code",
   "execution_count": 40,
   "id": "c9980c89-3bfe-4b27-ba1f-be713cb72645",
   "metadata": {
    "scrolled": true
   },
   "outputs": [
    {
     "data": {
      "text/plain": [
       "array([[-5.04241725e-01,  1.73569510e+00, -3.32506700e-01,\n",
       "        -3.35224749e-01, -2.00382318e-01, -3.41076498e-01,\n",
       "         2.21320762e-01, -4.57650159e-02,  5.26264517e-01,\n",
       "        -3.36902363e-01, -6.85147469e-01, -3.63388840e-01,\n",
       "        -3.29546092e-01],\n",
       "       [-4.17682519e-01,  4.50675359e-01, -3.32506700e-01,\n",
       "        -3.35224749e-01, -2.00382318e-01, -3.41076498e-01,\n",
       "        -1.08010555e+00,  2.01166449e-01, -1.60785410e-01,\n",
       "        -2.42003548e-02, -5.61494234e-01,  8.61756953e+00,\n",
       "        -3.29546092e-01],\n",
       "       [-1.65836447e+00, -1.40772186e-01,  1.45920146e-01,\n",
       "        -3.35224749e-01, -2.00382318e-01, -3.41076498e-01,\n",
       "        -1.61845104e+00, -5.67445728e-01, -1.23494003e+00,\n",
       "        -6.96544977e-01, -6.57320373e-01,  9.07168725e-01,\n",
       "        -3.29546092e-01],\n",
       "       [-1.86857969e-01, -2.30165582e-01, -3.32506700e-01,\n",
       "        -3.35224749e-01, -2.00382318e-01,  8.24810294e-01,\n",
       "         7.06807534e-01,  3.95081567e-01,  1.12770293e-01,\n",
       "         1.14001621e+00,  3.06509595e-01,  9.16977092e-02,\n",
       "        -3.29546092e-01],\n",
       "       [-1.02359696e+00, -2.30165582e-01,  1.84205155e-01,\n",
       "        -2.88967025e-01, -2.00382318e-01, -3.41076498e-01,\n",
       "         1.25264424e+00, -7.01419411e-01, -9.71902069e-01,\n",
       "        -7.14490180e-01,  9.63913939e-01,  1.85433529e+00,\n",
       "        -2.58713280e-01],\n",
       "       [ 7.28196497e-02,  1.87319272e-01, -3.32506700e-01,\n",
       "        -3.35224749e-01,  4.05813280e-02, -3.41076498e-01,\n",
       "         4.30618469e-01,  1.07267616e+00, -3.35668135e-01,\n",
       "        -1.19497063e+00, -7.32277677e-01, -2.91882759e-01,\n",
       "         6.43706841e-02],\n",
       "       [ 3.32497268e-01, -2.30165582e-01, -3.32506700e-01,\n",
       "        -3.35224749e-01,  2.61243575e+00,  2.05153076e-01,\n",
       "        -1.43843356e+00,  2.15287874e+00,  2.18411735e-01,\n",
       "        -7.34104264e-01,  5.24614153e-01, -4.69838732e-01,\n",
       "        -3.29546092e-01],\n",
       "       [-1.48524606e+00, -1.99537296e-01, -1.84507562e-01,\n",
       "        -3.35224749e-01, -2.00382318e-01, -2.96130226e-01,\n",
       "        -9.12375603e-01, -1.23489726e+00,  2.82351179e-01,\n",
       "        -8.76909717e-01, -7.30253773e-01, -3.86275930e-01,\n",
       "        -3.29546092e-01],\n",
       "       [-6.19654000e-01, -1.81780061e-01, -3.32506700e-01,\n",
       "        -3.35224749e-01, -2.00382318e-01, -3.41076498e-01,\n",
       "        -1.24585846e+00, -8.32794431e-01, -1.46809430e+00,\n",
       "        -8.51163568e-01,  1.37535173e-01, -4.69838732e-01,\n",
       "        -3.29546092e-01],\n",
       "       [ 1.34235467e+00, -2.30165582e-01, -3.32506700e-01,\n",
       "        -3.35224749e-01, -2.00382318e-01, -3.14534180e-01,\n",
       "        -1.13372623e+00,  4.88196194e-01, -1.03946449e+00,\n",
       "         7.25439978e-01,  1.10224689e+00,  5.40342038e+00,\n",
       "        -3.29546092e-01],\n",
       "       [-1.25442151e+00, -6.86481999e-03, -3.32506700e-01,\n",
       "        -3.35224749e-01, -2.00382318e-01, -3.41076498e-01,\n",
       "        -1.92108636e-01,  5.02354643e-01, -1.28331794e-01,\n",
       "        -3.66195737e-01, -2.89823809e-01, -3.85195245e-01,\n",
       "        -3.29546092e-01],\n",
       "       [ 1.51135122e-02,  3.65732919e-01, -3.32506700e-01,\n",
       "        -3.35224749e-01, -2.00382318e-01, -3.41076498e-01,\n",
       "        -4.97213609e-01,  1.62559915e-01,  2.10434575e+00,\n",
       "         3.13080388e-02, -5.12064070e-01, -1.68361721e-01,\n",
       "        -3.29546092e-01],\n",
       "       [-1.45639299e+00, -2.30165582e-01, -3.32506700e-01,\n",
       "        -3.35224749e-01, -2.00382318e-01, -2.44375418e-01,\n",
       "        -8.18950875e-01,  3.10480456e-02, -5.18310937e-01,\n",
       "        -9.71657431e-01, -3.86641073e-01,  4.70748430e+00,\n",
       "        -3.29546092e-01],\n",
       "       [-7.35066275e-01, -2.30165582e-01,  1.35211088e+00,\n",
       "        -3.35224749e-01, -2.00382318e-01, -3.41076498e-01,\n",
       "         1.63775485e-01,  7.46194117e-01, -1.38904870e+00,\n",
       "        -2.06192450e-01, -3.11322928e-01, -4.69838732e-01,\n",
       "        -2.87113652e-01],\n",
       "       [ 8.22999437e-01, -2.30165582e-01, -3.32506700e-01,\n",
       "        -3.35224749e-01, -9.17847940e-02, -3.38378197e-01,\n",
       "         2.08895449e+00,  1.31908607e+00, -9.66168669e-01,\n",
       "        -1.25445978e+00, -7.15229661e-01, -4.10891014e-01,\n",
       "        -1.36219333e-01],\n",
       "       [ 1.63088536e+00, -2.30165582e-01, -3.32506700e-01,\n",
       "        -3.35224749e-01, -2.00382318e-01, -3.41076498e-01,\n",
       "        -4.64892078e-01,  1.97917637e+00,  5.81229165e-03,\n",
       "         3.25857749e+00,  2.04021027e-01,  2.68269628e+00,\n",
       "        -2.48803541e-01],\n",
       "       [ 1.40006081e+00, -2.30165582e-01, -3.32506700e-01,\n",
       "        -3.35224749e-01, -2.00382318e-01, -3.36007186e-01,\n",
       "         8.47498962e-02,  2.10376019e+00,  1.40915344e+00,\n",
       "        -7.53058189e-02,  1.37503513e-01, -4.69838732e-01,\n",
       "        -3.29546092e-01],\n",
       "       [-1.77377675e+00,  1.53954065e+00, -3.32506700e-01,\n",
       "        -3.35224749e-01,  2.69008891e-01, -1.79007996e-02,\n",
       "         4.45321272e-01,  5.15824108e-01,  2.64766694e-01,\n",
       "        -1.22046582e+00, -6.31821065e-01, -4.69838732e-01,\n",
       "        -3.29546092e-01],\n",
       "       [ 7.94146368e-01, -2.30165582e-01, -1.46037266e-01,\n",
       "        -8.38899304e-02, -2.00382318e-01,  2.15662623e+00,\n",
       "         1.73802748e+00, -1.52622336e+00,  2.08990146e+00,\n",
       "         4.16482986e-01,  3.17621891e-01, -4.36154317e-01,\n",
       "        -3.29546092e-01],\n",
       "       [ 1.22694240e+00, -1.57822519e-01, -3.32506700e-01,\n",
       "        -3.35224749e-01, -2.00382318e-01, -3.38787362e-01,\n",
       "        -9.59359911e-02,  8.52572039e-01,  5.44777591e-02,\n",
       "         1.65694760e+00, -3.43317696e-01, -4.69838732e-01,\n",
       "        -3.29546092e-01],\n",
       "       [ 1.01672718e-01, -2.30165582e-01, -3.32506700e-01,\n",
       "        -3.35224749e-01, -2.00382318e-01, -2.71522682e-01,\n",
       "        -8.89643950e-01,  5.50516077e-01, -1.38824047e+00,\n",
       "        -4.44408941e-01, -5.62510438e-01, -3.98623258e-01,\n",
       "        -3.29546092e-01],\n",
       "       [-4.75388656e-01, -2.30165582e-01, -3.32506700e-01,\n",
       "        -3.35224749e-01, -2.00382318e-01,  9.10573055e-02,\n",
       "        -2.48792030e-01, -4.52643141e-01,  1.88112230e-02,\n",
       "         5.49595098e-01, -2.17019049e-01,  8.00356375e+00,\n",
       "         6.77929905e-02],\n",
       "       [-8.79331618e-01, -2.30165582e-01, -3.32506700e-01,\n",
       "        -3.35224749e-01, -2.00382318e-01, -2.52305443e-01,\n",
       "        -1.02626145e+00,  6.04055595e-01, -1.14213095e+00,\n",
       "        -1.42426948e-01,  1.04531447e+00, -4.31541883e-01,\n",
       "        -2.34155410e-01],\n",
       "       [ 2.45938062e-01, -2.30165582e-01, -1.62409154e-01,\n",
       "        -3.35224749e-01, -2.00382318e-01,  9.20105920e-01,\n",
       "         2.20183911e+00, -1.45280332e+00,  6.94113484e-01,\n",
       "         1.42956116e-01, -4.81617588e-01, -4.69838732e-01,\n",
       "        -3.29546092e-01],\n",
       "       [-5.61947862e-01,  1.27895601e-01, -3.32506700e-01,\n",
       "        -3.35224749e-01, -2.00382318e-01,  2.16282422e+00,\n",
       "         6.73509870e-01, -1.15449765e-03, -1.55217930e+00,\n",
       "        -3.20837703e-01,  3.23771003e-01, -4.13550838e-01,\n",
       "        -3.29546092e-01],\n",
       "       [-1.42753992e+00, -2.30165582e-01, -2.34920600e-01,\n",
       "        -3.35224749e-01, -2.00382318e-01, -3.41076498e-01,\n",
       "         1.25933374e+00,  4.70294406e-01, -1.20235648e+00,\n",
       "        -7.07932905e-01,  6.44413374e-02, -4.69838732e-01,\n",
       "        -3.29546092e-01],\n",
       "       [-1.34098072e+00, -2.30165582e-01, -3.32506700e-01,\n",
       "        -3.35224749e-01, -1.77307087e-01, -2.76294774e-01,\n",
       "        -3.31518452e-01, -2.15043093e-01,  5.94720411e-01,\n",
       "         4.94977837e-02,  8.83396156e-01, -5.26306999e-04,\n",
       "        -3.29546092e-01],\n",
       "       [ 1.54432615e+00, -2.30165582e-01, -3.32506700e-01,\n",
       "         1.10699588e+00, -2.00382318e-01, -3.08753919e-01,\n",
       "         2.05228598e-01,  3.10177504e-01,  2.61224182e-01,\n",
       "         2.01456827e+00,  1.03478266e-01, -4.69838732e-01,\n",
       "        -3.29546092e-01],\n",
       "       [ 4.19056474e-01, -2.30165582e-01, -3.32506700e-01,\n",
       "        -3.35224749e-01, -1.46083556e-01, -3.41076498e-01,\n",
       "        -3.92392518e-01,  1.31157287e+00, -9.81441132e-01,\n",
       "         8.60210753e-01, -4.22345015e-01,  2.06639916e+00,\n",
       "        -3.29546092e-01],\n",
       "       [ 1.05382399e+00, -2.30165582e-01, -2.89982313e-01,\n",
       "        -3.35224749e-01, -2.00382318e-01,  1.19712840e+00,\n",
       "         1.98072755e-02, -9.46329282e-01, -1.19921341e+00,\n",
       "         2.18586329e-01,  5.45033857e-01, -4.69838732e-01,\n",
       "        -3.29546092e-01],\n",
       "       [-1.08130310e+00, -2.30165582e-01, -3.32506700e-01,\n",
       "        -6.89066686e-02, -2.00382318e-01,  1.29193868e+00,\n",
       "         5.36767441e-01, -1.62602228e+00, -8.35375873e-01,\n",
       "        -1.01745646e+00, -6.64163173e-01,  2.23469417e-01,\n",
       "        -3.29546092e-01],\n",
       "       [ 4.76762612e-01, -2.30165582e-01, -2.59250852e-01,\n",
       "         8.21305661e-01, -2.00382318e-01, -3.18103505e-01,\n",
       "         3.58146918e-01, -1.38271497e+00,  4.38715530e-01,\n",
       "        -5.11787100e-01, -6.53172390e-01,  5.41350677e+00,\n",
       "        -3.29546092e-01],\n",
       "       [-1.13900924e+00, -2.30165582e-01, -2.62027852e-01,\n",
       "        -3.35224749e-01, -2.00382318e-01, -3.41076498e-01,\n",
       "        -1.62035022e+00,  1.33115891e+00, -9.14849548e-01,\n",
       "         5.88382026e-01, -7.32277677e-01, -4.69838732e-01,\n",
       "        -3.29546092e-01],\n",
       "       [ 1.02497092e+00, -2.30165582e-01, -3.32506700e-01,\n",
       "        -3.35224749e-01, -2.00382318e-01, -3.41076498e-01,\n",
       "        -4.65709207e-01, -5.88851220e-01,  6.87750325e-01,\n",
       "         4.01227225e-01,  2.76828161e+00,  7.12136491e-01,\n",
       "        -3.29546092e-01],\n",
       "       [-1.58004900e-01, -2.30165582e-01, -3.32506700e-01,\n",
       "        -3.35224749e-01, -2.00382318e-01,  1.36188768e-01,\n",
       "        -9.74870308e-01,  1.67811652e-01,  7.07410184e-01,\n",
       "        -1.21994011e+00, -5.89633140e-01,  1.61041628e+00,\n",
       "        -3.29546092e-01],\n",
       "       [ 1.42891388e+00, -2.30165582e-01, -3.32506700e-01,\n",
       "        -3.35224749e-01, -2.00382318e-01, -3.41076498e-01,\n",
       "        -1.20015320e+00, -7.23827363e-01,  4.76054468e-01,\n",
       "         8.62413226e-01,  3.34568605e-01, -4.69838732e-01,\n",
       "        -3.29546092e-01],\n",
       "       [-9.08184687e-01, -2.30165582e-01, -3.32506700e-01,\n",
       "        -3.35224749e-01, -2.00382318e-01, -3.41076498e-01,\n",
       "        -1.21574396e+00,  1.44569725e+00,  3.45508624e-01,\n",
       "        -8.06704204e-01,  3.60924476e+00,  2.84022846e+00,\n",
       "         3.50420754e-01]])"
      ]
     },
     "execution_count": 40,
     "metadata": {},
     "output_type": "execute_result"
    }
   ],
   "source": [
    "x_test"
   ]
  },
  {
   "cell_type": "code",
   "execution_count": 41,
   "id": "64b8c91a-45a9-4c29-91a6-c01c580325e2",
   "metadata": {},
   "outputs": [],
   "source": [
    "Q1 = df.quantile(0.25)\n",
    "Q3 = df.quantile(0.75)\n",
    "IQR = Q3 - Q1\n",
    "data_cleaned = df[~((df< (Q1 - 1.5 * IQR)) | (df > (Q3 + 1.5 * IQR))).any(axis=1)]"
   ]
  },
  {
   "cell_type": "code",
   "execution_count": null,
   "id": "ba464832-7ed3-416d-9943-9d6a4b1d5311",
   "metadata": {},
   "outputs": [],
   "source": []
  },
  {
   "cell_type": "code",
   "execution_count": null,
   "id": "fb3126c3-2a5e-4004-9bd5-62de702e52d0",
   "metadata": {},
   "outputs": [],
   "source": []
  },
  {
   "cell_type": "code",
   "execution_count": null,
   "id": "275c3b03-d20f-4bd2-abf6-216d6ad4084e",
   "metadata": {},
   "outputs": [],
   "source": []
  },
  {
   "cell_type": "code",
   "execution_count": null,
   "id": "557eb5ae-ac74-4a74-8c8e-f0e9e1d5c639",
   "metadata": {
    "scrolled": true
   },
   "outputs": [],
   "source": []
  },
  {
   "cell_type": "markdown",
   "id": "213f6264-91cd-4c8f-9f59-cba1ff84827a",
   "metadata": {},
   "source": [
    "# Checking Data set is Balanced or Imbalanced"
   ]
  },
  {
   "cell_type": "code",
   "execution_count": 42,
   "id": "5d810c10-810a-4f05-99ec-adb7160dd653",
   "metadata": {},
   "outputs": [],
   "source": [
    "# Check the distribution of the target variable (e.g., 'Total')\n",
    "target_column = 'Total'  # Replace with your target column name\n",
    "class_distribution = df[target_column].value_counts()\n"
   ]
  },
  {
   "cell_type": "code",
   "execution_count": 43,
   "id": "b87a6eb5-15e2-4453-8401-49005e7ea3ac",
   "metadata": {},
   "outputs": [
    {
     "name": "stdout",
     "output_type": "stream",
     "text": [
      "Imbalance Ratio (max class count / min class count): 1.00\n",
      "The dataset appears to be balanced.\n"
     ]
    }
   ],
   "source": [
    "# Check if the classes are imbalanced\n",
    "imbalance_ratio = class_distribution.max() / class_distribution.min()\n",
    "print(f\"Imbalance Ratio (max class count / min class count): {imbalance_ratio:.2f}\")\n",
    "\n",
    "if imbalance_ratio > 1.5:  # Adjust this threshold as necessary\n",
    "    print(\"The dataset appears to be imbalanced.\")\n",
    "else:\n",
    "    print(\"The dataset appears to be balanced.\")"
   ]
  },
  {
   "cell_type": "markdown",
   "id": "c0e9ebe7-5a0e-4ce7-ad9c-937ae6ec57f8",
   "metadata": {},
   "source": [
    "Here Rain Forecasting Data Set is values is Balanced.Next step start the Machine learning Model"
   ]
  },
  {
   "cell_type": "markdown",
   "id": "1f112d80-0757-4ec1-8a87-6bbadece2275",
   "metadata": {},
   "source": [
    "# Machine Learning Model"
   ]
  },
  {
   "cell_type": "markdown",
   "id": "d0162916-8a5e-4456-bb55-a09986fbaf1b",
   "metadata": {},
   "source": [
    "#### 1.RandomForestRegressor"
   ]
  },
  {
   "cell_type": "code",
   "execution_count": 44,
   "id": "cfb557c2-d9c0-44a2-bf67-04f375c5e38f",
   "metadata": {},
   "outputs": [],
   "source": [
    "from sklearn.ensemble import RandomForestRegressor\n",
    "from sklearn.metrics import mean_squared_error, r2_score"
   ]
  },
  {
   "cell_type": "code",
   "execution_count": 45,
   "id": "61c5e15c-821e-43c9-a5ca-8e6beb6368bc",
   "metadata": {},
   "outputs": [],
   "source": [
    "rf_model = RandomForestRegressor(n_estimators=100, random_state=42)"
   ]
  },
  {
   "cell_type": "code",
   "execution_count": 46,
   "id": "e2c68fe1-b829-4d15-90ae-a51aab828a6a",
   "metadata": {},
   "outputs": [
    {
     "data": {
      "text/html": [
       "<style>#sk-container-id-1 {\n",
       "  /* Definition of color scheme common for light and dark mode */\n",
       "  --sklearn-color-text: black;\n",
       "  --sklearn-color-line: gray;\n",
       "  /* Definition of color scheme for unfitted estimators */\n",
       "  --sklearn-color-unfitted-level-0: #fff5e6;\n",
       "  --sklearn-color-unfitted-level-1: #f6e4d2;\n",
       "  --sklearn-color-unfitted-level-2: #ffe0b3;\n",
       "  --sklearn-color-unfitted-level-3: chocolate;\n",
       "  /* Definition of color scheme for fitted estimators */\n",
       "  --sklearn-color-fitted-level-0: #f0f8ff;\n",
       "  --sklearn-color-fitted-level-1: #d4ebff;\n",
       "  --sklearn-color-fitted-level-2: #b3dbfd;\n",
       "  --sklearn-color-fitted-level-3: cornflowerblue;\n",
       "\n",
       "  /* Specific color for light theme */\n",
       "  --sklearn-color-text-on-default-background: var(--sg-text-color, var(--theme-code-foreground, var(--jp-content-font-color1, black)));\n",
       "  --sklearn-color-background: var(--sg-background-color, var(--theme-background, var(--jp-layout-color0, white)));\n",
       "  --sklearn-color-border-box: var(--sg-text-color, var(--theme-code-foreground, var(--jp-content-font-color1, black)));\n",
       "  --sklearn-color-icon: #696969;\n",
       "\n",
       "  @media (prefers-color-scheme: dark) {\n",
       "    /* Redefinition of color scheme for dark theme */\n",
       "    --sklearn-color-text-on-default-background: var(--sg-text-color, var(--theme-code-foreground, var(--jp-content-font-color1, white)));\n",
       "    --sklearn-color-background: var(--sg-background-color, var(--theme-background, var(--jp-layout-color0, #111)));\n",
       "    --sklearn-color-border-box: var(--sg-text-color, var(--theme-code-foreground, var(--jp-content-font-color1, white)));\n",
       "    --sklearn-color-icon: #878787;\n",
       "  }\n",
       "}\n",
       "\n",
       "#sk-container-id-1 {\n",
       "  color: var(--sklearn-color-text);\n",
       "}\n",
       "\n",
       "#sk-container-id-1 pre {\n",
       "  padding: 0;\n",
       "}\n",
       "\n",
       "#sk-container-id-1 input.sk-hidden--visually {\n",
       "  border: 0;\n",
       "  clip: rect(1px 1px 1px 1px);\n",
       "  clip: rect(1px, 1px, 1px, 1px);\n",
       "  height: 1px;\n",
       "  margin: -1px;\n",
       "  overflow: hidden;\n",
       "  padding: 0;\n",
       "  position: absolute;\n",
       "  width: 1px;\n",
       "}\n",
       "\n",
       "#sk-container-id-1 div.sk-dashed-wrapped {\n",
       "  border: 1px dashed var(--sklearn-color-line);\n",
       "  margin: 0 0.4em 0.5em 0.4em;\n",
       "  box-sizing: border-box;\n",
       "  padding-bottom: 0.4em;\n",
       "  background-color: var(--sklearn-color-background);\n",
       "}\n",
       "\n",
       "#sk-container-id-1 div.sk-container {\n",
       "  /* jupyter's `normalize.less` sets `[hidden] { display: none; }`\n",
       "     but bootstrap.min.css set `[hidden] { display: none !important; }`\n",
       "     so we also need the `!important` here to be able to override the\n",
       "     default hidden behavior on the sphinx rendered scikit-learn.org.\n",
       "     See: https://github.com/scikit-learn/scikit-learn/issues/21755 */\n",
       "  display: inline-block !important;\n",
       "  position: relative;\n",
       "}\n",
       "\n",
       "#sk-container-id-1 div.sk-text-repr-fallback {\n",
       "  display: none;\n",
       "}\n",
       "\n",
       "div.sk-parallel-item,\n",
       "div.sk-serial,\n",
       "div.sk-item {\n",
       "  /* draw centered vertical line to link estimators */\n",
       "  background-image: linear-gradient(var(--sklearn-color-text-on-default-background), var(--sklearn-color-text-on-default-background));\n",
       "  background-size: 2px 100%;\n",
       "  background-repeat: no-repeat;\n",
       "  background-position: center center;\n",
       "}\n",
       "\n",
       "/* Parallel-specific style estimator block */\n",
       "\n",
       "#sk-container-id-1 div.sk-parallel-item::after {\n",
       "  content: \"\";\n",
       "  width: 100%;\n",
       "  border-bottom: 2px solid var(--sklearn-color-text-on-default-background);\n",
       "  flex-grow: 1;\n",
       "}\n",
       "\n",
       "#sk-container-id-1 div.sk-parallel {\n",
       "  display: flex;\n",
       "  align-items: stretch;\n",
       "  justify-content: center;\n",
       "  background-color: var(--sklearn-color-background);\n",
       "  position: relative;\n",
       "}\n",
       "\n",
       "#sk-container-id-1 div.sk-parallel-item {\n",
       "  display: flex;\n",
       "  flex-direction: column;\n",
       "}\n",
       "\n",
       "#sk-container-id-1 div.sk-parallel-item:first-child::after {\n",
       "  align-self: flex-end;\n",
       "  width: 50%;\n",
       "}\n",
       "\n",
       "#sk-container-id-1 div.sk-parallel-item:last-child::after {\n",
       "  align-self: flex-start;\n",
       "  width: 50%;\n",
       "}\n",
       "\n",
       "#sk-container-id-1 div.sk-parallel-item:only-child::after {\n",
       "  width: 0;\n",
       "}\n",
       "\n",
       "/* Serial-specific style estimator block */\n",
       "\n",
       "#sk-container-id-1 div.sk-serial {\n",
       "  display: flex;\n",
       "  flex-direction: column;\n",
       "  align-items: center;\n",
       "  background-color: var(--sklearn-color-background);\n",
       "  padding-right: 1em;\n",
       "  padding-left: 1em;\n",
       "}\n",
       "\n",
       "\n",
       "/* Toggleable style: style used for estimator/Pipeline/ColumnTransformer box that is\n",
       "clickable and can be expanded/collapsed.\n",
       "- Pipeline and ColumnTransformer use this feature and define the default style\n",
       "- Estimators will overwrite some part of the style using the `sk-estimator` class\n",
       "*/\n",
       "\n",
       "/* Pipeline and ColumnTransformer style (default) */\n",
       "\n",
       "#sk-container-id-1 div.sk-toggleable {\n",
       "  /* Default theme specific background. It is overwritten whether we have a\n",
       "  specific estimator or a Pipeline/ColumnTransformer */\n",
       "  background-color: var(--sklearn-color-background);\n",
       "}\n",
       "\n",
       "/* Toggleable label */\n",
       "#sk-container-id-1 label.sk-toggleable__label {\n",
       "  cursor: pointer;\n",
       "  display: block;\n",
       "  width: 100%;\n",
       "  margin-bottom: 0;\n",
       "  padding: 0.5em;\n",
       "  box-sizing: border-box;\n",
       "  text-align: center;\n",
       "}\n",
       "\n",
       "#sk-container-id-1 label.sk-toggleable__label-arrow:before {\n",
       "  /* Arrow on the left of the label */\n",
       "  content: \"▸\";\n",
       "  float: left;\n",
       "  margin-right: 0.25em;\n",
       "  color: var(--sklearn-color-icon);\n",
       "}\n",
       "\n",
       "#sk-container-id-1 label.sk-toggleable__label-arrow:hover:before {\n",
       "  color: var(--sklearn-color-text);\n",
       "}\n",
       "\n",
       "/* Toggleable content - dropdown */\n",
       "\n",
       "#sk-container-id-1 div.sk-toggleable__content {\n",
       "  max-height: 0;\n",
       "  max-width: 0;\n",
       "  overflow: hidden;\n",
       "  text-align: left;\n",
       "  /* unfitted */\n",
       "  background-color: var(--sklearn-color-unfitted-level-0);\n",
       "}\n",
       "\n",
       "#sk-container-id-1 div.sk-toggleable__content.fitted {\n",
       "  /* fitted */\n",
       "  background-color: var(--sklearn-color-fitted-level-0);\n",
       "}\n",
       "\n",
       "#sk-container-id-1 div.sk-toggleable__content pre {\n",
       "  margin: 0.2em;\n",
       "  border-radius: 0.25em;\n",
       "  color: var(--sklearn-color-text);\n",
       "  /* unfitted */\n",
       "  background-color: var(--sklearn-color-unfitted-level-0);\n",
       "}\n",
       "\n",
       "#sk-container-id-1 div.sk-toggleable__content.fitted pre {\n",
       "  /* unfitted */\n",
       "  background-color: var(--sklearn-color-fitted-level-0);\n",
       "}\n",
       "\n",
       "#sk-container-id-1 input.sk-toggleable__control:checked~div.sk-toggleable__content {\n",
       "  /* Expand drop-down */\n",
       "  max-height: 200px;\n",
       "  max-width: 100%;\n",
       "  overflow: auto;\n",
       "}\n",
       "\n",
       "#sk-container-id-1 input.sk-toggleable__control:checked~label.sk-toggleable__label-arrow:before {\n",
       "  content: \"▾\";\n",
       "}\n",
       "\n",
       "/* Pipeline/ColumnTransformer-specific style */\n",
       "\n",
       "#sk-container-id-1 div.sk-label input.sk-toggleable__control:checked~label.sk-toggleable__label {\n",
       "  color: var(--sklearn-color-text);\n",
       "  background-color: var(--sklearn-color-unfitted-level-2);\n",
       "}\n",
       "\n",
       "#sk-container-id-1 div.sk-label.fitted input.sk-toggleable__control:checked~label.sk-toggleable__label {\n",
       "  background-color: var(--sklearn-color-fitted-level-2);\n",
       "}\n",
       "\n",
       "/* Estimator-specific style */\n",
       "\n",
       "/* Colorize estimator box */\n",
       "#sk-container-id-1 div.sk-estimator input.sk-toggleable__control:checked~label.sk-toggleable__label {\n",
       "  /* unfitted */\n",
       "  background-color: var(--sklearn-color-unfitted-level-2);\n",
       "}\n",
       "\n",
       "#sk-container-id-1 div.sk-estimator.fitted input.sk-toggleable__control:checked~label.sk-toggleable__label {\n",
       "  /* fitted */\n",
       "  background-color: var(--sklearn-color-fitted-level-2);\n",
       "}\n",
       "\n",
       "#sk-container-id-1 div.sk-label label.sk-toggleable__label,\n",
       "#sk-container-id-1 div.sk-label label {\n",
       "  /* The background is the default theme color */\n",
       "  color: var(--sklearn-color-text-on-default-background);\n",
       "}\n",
       "\n",
       "/* On hover, darken the color of the background */\n",
       "#sk-container-id-1 div.sk-label:hover label.sk-toggleable__label {\n",
       "  color: var(--sklearn-color-text);\n",
       "  background-color: var(--sklearn-color-unfitted-level-2);\n",
       "}\n",
       "\n",
       "/* Label box, darken color on hover, fitted */\n",
       "#sk-container-id-1 div.sk-label.fitted:hover label.sk-toggleable__label.fitted {\n",
       "  color: var(--sklearn-color-text);\n",
       "  background-color: var(--sklearn-color-fitted-level-2);\n",
       "}\n",
       "\n",
       "/* Estimator label */\n",
       "\n",
       "#sk-container-id-1 div.sk-label label {\n",
       "  font-family: monospace;\n",
       "  font-weight: bold;\n",
       "  display: inline-block;\n",
       "  line-height: 1.2em;\n",
       "}\n",
       "\n",
       "#sk-container-id-1 div.sk-label-container {\n",
       "  text-align: center;\n",
       "}\n",
       "\n",
       "/* Estimator-specific */\n",
       "#sk-container-id-1 div.sk-estimator {\n",
       "  font-family: monospace;\n",
       "  border: 1px dotted var(--sklearn-color-border-box);\n",
       "  border-radius: 0.25em;\n",
       "  box-sizing: border-box;\n",
       "  margin-bottom: 0.5em;\n",
       "  /* unfitted */\n",
       "  background-color: var(--sklearn-color-unfitted-level-0);\n",
       "}\n",
       "\n",
       "#sk-container-id-1 div.sk-estimator.fitted {\n",
       "  /* fitted */\n",
       "  background-color: var(--sklearn-color-fitted-level-0);\n",
       "}\n",
       "\n",
       "/* on hover */\n",
       "#sk-container-id-1 div.sk-estimator:hover {\n",
       "  /* unfitted */\n",
       "  background-color: var(--sklearn-color-unfitted-level-2);\n",
       "}\n",
       "\n",
       "#sk-container-id-1 div.sk-estimator.fitted:hover {\n",
       "  /* fitted */\n",
       "  background-color: var(--sklearn-color-fitted-level-2);\n",
       "}\n",
       "\n",
       "/* Specification for estimator info (e.g. \"i\" and \"?\") */\n",
       "\n",
       "/* Common style for \"i\" and \"?\" */\n",
       "\n",
       ".sk-estimator-doc-link,\n",
       "a:link.sk-estimator-doc-link,\n",
       "a:visited.sk-estimator-doc-link {\n",
       "  float: right;\n",
       "  font-size: smaller;\n",
       "  line-height: 1em;\n",
       "  font-family: monospace;\n",
       "  background-color: var(--sklearn-color-background);\n",
       "  border-radius: 1em;\n",
       "  height: 1em;\n",
       "  width: 1em;\n",
       "  text-decoration: none !important;\n",
       "  margin-left: 1ex;\n",
       "  /* unfitted */\n",
       "  border: var(--sklearn-color-unfitted-level-1) 1pt solid;\n",
       "  color: var(--sklearn-color-unfitted-level-1);\n",
       "}\n",
       "\n",
       ".sk-estimator-doc-link.fitted,\n",
       "a:link.sk-estimator-doc-link.fitted,\n",
       "a:visited.sk-estimator-doc-link.fitted {\n",
       "  /* fitted */\n",
       "  border: var(--sklearn-color-fitted-level-1) 1pt solid;\n",
       "  color: var(--sklearn-color-fitted-level-1);\n",
       "}\n",
       "\n",
       "/* On hover */\n",
       "div.sk-estimator:hover .sk-estimator-doc-link:hover,\n",
       ".sk-estimator-doc-link:hover,\n",
       "div.sk-label-container:hover .sk-estimator-doc-link:hover,\n",
       ".sk-estimator-doc-link:hover {\n",
       "  /* unfitted */\n",
       "  background-color: var(--sklearn-color-unfitted-level-3);\n",
       "  color: var(--sklearn-color-background);\n",
       "  text-decoration: none;\n",
       "}\n",
       "\n",
       "div.sk-estimator.fitted:hover .sk-estimator-doc-link.fitted:hover,\n",
       ".sk-estimator-doc-link.fitted:hover,\n",
       "div.sk-label-container:hover .sk-estimator-doc-link.fitted:hover,\n",
       ".sk-estimator-doc-link.fitted:hover {\n",
       "  /* fitted */\n",
       "  background-color: var(--sklearn-color-fitted-level-3);\n",
       "  color: var(--sklearn-color-background);\n",
       "  text-decoration: none;\n",
       "}\n",
       "\n",
       "/* Span, style for the box shown on hovering the info icon */\n",
       ".sk-estimator-doc-link span {\n",
       "  display: none;\n",
       "  z-index: 9999;\n",
       "  position: relative;\n",
       "  font-weight: normal;\n",
       "  right: .2ex;\n",
       "  padding: .5ex;\n",
       "  margin: .5ex;\n",
       "  width: min-content;\n",
       "  min-width: 20ex;\n",
       "  max-width: 50ex;\n",
       "  color: var(--sklearn-color-text);\n",
       "  box-shadow: 2pt 2pt 4pt #999;\n",
       "  /* unfitted */\n",
       "  background: var(--sklearn-color-unfitted-level-0);\n",
       "  border: .5pt solid var(--sklearn-color-unfitted-level-3);\n",
       "}\n",
       "\n",
       ".sk-estimator-doc-link.fitted span {\n",
       "  /* fitted */\n",
       "  background: var(--sklearn-color-fitted-level-0);\n",
       "  border: var(--sklearn-color-fitted-level-3);\n",
       "}\n",
       "\n",
       ".sk-estimator-doc-link:hover span {\n",
       "  display: block;\n",
       "}\n",
       "\n",
       "/* \"?\"-specific style due to the `<a>` HTML tag */\n",
       "\n",
       "#sk-container-id-1 a.estimator_doc_link {\n",
       "  float: right;\n",
       "  font-size: 1rem;\n",
       "  line-height: 1em;\n",
       "  font-family: monospace;\n",
       "  background-color: var(--sklearn-color-background);\n",
       "  border-radius: 1rem;\n",
       "  height: 1rem;\n",
       "  width: 1rem;\n",
       "  text-decoration: none;\n",
       "  /* unfitted */\n",
       "  color: var(--sklearn-color-unfitted-level-1);\n",
       "  border: var(--sklearn-color-unfitted-level-1) 1pt solid;\n",
       "}\n",
       "\n",
       "#sk-container-id-1 a.estimator_doc_link.fitted {\n",
       "  /* fitted */\n",
       "  border: var(--sklearn-color-fitted-level-1) 1pt solid;\n",
       "  color: var(--sklearn-color-fitted-level-1);\n",
       "}\n",
       "\n",
       "/* On hover */\n",
       "#sk-container-id-1 a.estimator_doc_link:hover {\n",
       "  /* unfitted */\n",
       "  background-color: var(--sklearn-color-unfitted-level-3);\n",
       "  color: var(--sklearn-color-background);\n",
       "  text-decoration: none;\n",
       "}\n",
       "\n",
       "#sk-container-id-1 a.estimator_doc_link.fitted:hover {\n",
       "  /* fitted */\n",
       "  background-color: var(--sklearn-color-fitted-level-3);\n",
       "}\n",
       "</style><div id=\"sk-container-id-1\" class=\"sk-top-container\"><div class=\"sk-text-repr-fallback\"><pre>RandomForestRegressor(random_state=42)</pre><b>In a Jupyter environment, please rerun this cell to show the HTML representation or trust the notebook. <br />On GitHub, the HTML representation is unable to render, please try loading this page with nbviewer.org.</b></div><div class=\"sk-container\" hidden><div class=\"sk-item\"><div class=\"sk-estimator fitted sk-toggleable\"><input class=\"sk-toggleable__control sk-hidden--visually\" id=\"sk-estimator-id-1\" type=\"checkbox\" checked><label for=\"sk-estimator-id-1\" class=\"sk-toggleable__label fitted sk-toggleable__label-arrow fitted\">&nbsp;&nbsp;RandomForestRegressor<a class=\"sk-estimator-doc-link fitted\" rel=\"noreferrer\" target=\"_blank\" href=\"https://scikit-learn.org/1.5/modules/generated/sklearn.ensemble.RandomForestRegressor.html\">?<span>Documentation for RandomForestRegressor</span></a><span class=\"sk-estimator-doc-link fitted\">i<span>Fitted</span></span></label><div class=\"sk-toggleable__content fitted\"><pre>RandomForestRegressor(random_state=42)</pre></div> </div></div></div></div>"
      ],
      "text/plain": [
       "RandomForestRegressor(random_state=42)"
      ]
     },
     "execution_count": 46,
     "metadata": {},
     "output_type": "execute_result"
    }
   ],
   "source": [
    "rf_model.fit(x_train, y_train)"
   ]
  },
  {
   "cell_type": "code",
   "execution_count": 47,
   "id": "30d1b2f1-bfb9-47da-a9aa-07fd759f949f",
   "metadata": {},
   "outputs": [],
   "source": [
    "y_pred = rf_model.predict(x_test)"
   ]
  },
  {
   "cell_type": "code",
   "execution_count": 48,
   "id": "e9edde41-d79e-4b7e-bbf8-20bf90ea9147",
   "metadata": {},
   "outputs": [],
   "source": [
    "# Evaluate the model\n",
    "mse = mean_squared_error(y_test, y_pred)\n",
    "rmse = np.sqrt(mse)\n",
    "r2 = r2_score(y_test, y_pred)"
   ]
  },
  {
   "cell_type": "code",
   "execution_count": 49,
   "id": "493d1562-9e81-404e-880e-c2708a5491f3",
   "metadata": {},
   "outputs": [
    {
     "name": "stdout",
     "output_type": "stream",
     "text": [
      "Mean Squared Error (MSE): 64769.0285\n",
      "Root Mean Squared Error (RMSE): 254.4976\n",
      "R² Score: 0.7433\n"
     ]
    }
   ],
   "source": [
    "print(f\"Mean Squared Error (MSE): {mse:.4f}\")\n",
    "print(f\"Root Mean Squared Error (RMSE): {rmse:.4f}\")\n",
    "print(f\"R² Score: {r2:.4f}\")"
   ]
  },
  {
   "cell_type": "code",
   "execution_count": 50,
   "id": "b1c77608-ac62-4beb-bfeb-8efbe1f42a1a",
   "metadata": {},
   "outputs": [
    {
     "name": "stdout",
     "output_type": "stream",
     "text": [
      "Feature Importances: [0.02511893 0.00278283 0.00668735 0.00863453 0.00454334 0.03150799\n",
      " 0.08799351 0.28974501 0.35256615 0.11264189 0.05312004 0.01670727\n",
      " 0.00795116]\n"
     ]
    }
   ],
   "source": [
    "# Optional: Feature importance\n",
    "feature_importances = rf_model.feature_importances_\n",
    "print(\"Feature Importances:\", feature_importances)"
   ]
  },
  {
   "cell_type": "markdown",
   "id": "afb58e81-4201-46ef-a09e-5562ca94d630",
   "metadata": {},
   "source": [
    "#### 2. CatBoost Regressor"
   ]
  },
  {
   "cell_type": "code",
   "execution_count": 51,
   "id": "59e04d2d-6311-422b-9ad6-4ec739448fe7",
   "metadata": {},
   "outputs": [],
   "source": [
    "from catboost import CatBoostRegressor\n",
    "from sklearn.metrics import mean_squared_error, r2_score"
   ]
  },
  {
   "cell_type": "code",
   "execution_count": 52,
   "id": "59d5b60a-7e1e-4366-bf04-c6bbf6910afd",
   "metadata": {},
   "outputs": [],
   "source": [
    "model = CatBoostRegressor(n_estimators=100, learning_rate=0.1, depth=6, random_state=42, verbose=0)"
   ]
  },
  {
   "cell_type": "code",
   "execution_count": 53,
   "id": "d0eeb65d-9da0-4728-927c-82236d0a0d56",
   "metadata": {},
   "outputs": [
    {
     "data": {
      "text/plain": [
       "<catboost.core.CatBoostRegressor at 0x244f811dca0>"
      ]
     },
     "execution_count": 53,
     "metadata": {},
     "output_type": "execute_result"
    }
   ],
   "source": [
    "model.fit(x_train, y_train)"
   ]
  },
  {
   "cell_type": "code",
   "execution_count": 54,
   "id": "f72462fa-c15e-4db9-9213-a3f5d65a9689",
   "metadata": {},
   "outputs": [],
   "source": [
    "y_pred = model.predict(x_test)"
   ]
  },
  {
   "cell_type": "code",
   "execution_count": 55,
   "id": "79ab7b73-bc5f-4c4d-9625-8e2fe88d555a",
   "metadata": {},
   "outputs": [],
   "source": [
    "mse = mean_squared_error(y_test, y_pred)\n",
    "rmse = np.sqrt(mse)\n",
    "r2 = r2_score(y_test, y_pred)"
   ]
  },
  {
   "cell_type": "code",
   "execution_count": 56,
   "id": "fc03f7ae-d8f0-43ab-b3f4-274356ae95e4",
   "metadata": {},
   "outputs": [
    {
     "name": "stdout",
     "output_type": "stream",
     "text": [
      "Mean Squared Error: 36413.65531925808\n",
      "Root Mean Squared Error: 190.82362358800884\n",
      "R² Score: 0.8556559662040939\n"
     ]
    }
   ],
   "source": [
    "print(f'Mean Squared Error: {mse}')\n",
    "print(f'Root Mean Squared Error: {rmse}')\n",
    "print(f'R² Score: {r2}')"
   ]
  },
  {
   "cell_type": "markdown",
   "id": "f695a0e2-fed6-43af-9b3e-9729233a2417",
   "metadata": {},
   "source": [
    "#### 3.KNN Regression"
   ]
  },
  {
   "cell_type": "code",
   "execution_count": 57,
   "id": "6b183347-af43-41cd-b432-64c6dd42fac6",
   "metadata": {},
   "outputs": [],
   "source": [
    "from sklearn.neighbors import KNeighborsRegressor\n",
    "from sklearn.metrics import mean_squared_error, r2_score"
   ]
  },
  {
   "cell_type": "code",
   "execution_count": 58,
   "id": "cab09fe4-3023-4d09-af0a-65c19159b63a",
   "metadata": {},
   "outputs": [],
   "source": [
    "knn = KNeighborsRegressor(n_neighbors=5)  # You can tune 'n_neighbors'"
   ]
  },
  {
   "cell_type": "code",
   "execution_count": 59,
   "id": "b5c13e9b-264b-45b1-ace2-f2fc0a2a987b",
   "metadata": {},
   "outputs": [
    {
     "data": {
      "text/html": [
       "<style>#sk-container-id-2 {\n",
       "  /* Definition of color scheme common for light and dark mode */\n",
       "  --sklearn-color-text: black;\n",
       "  --sklearn-color-line: gray;\n",
       "  /* Definition of color scheme for unfitted estimators */\n",
       "  --sklearn-color-unfitted-level-0: #fff5e6;\n",
       "  --sklearn-color-unfitted-level-1: #f6e4d2;\n",
       "  --sklearn-color-unfitted-level-2: #ffe0b3;\n",
       "  --sklearn-color-unfitted-level-3: chocolate;\n",
       "  /* Definition of color scheme for fitted estimators */\n",
       "  --sklearn-color-fitted-level-0: #f0f8ff;\n",
       "  --sklearn-color-fitted-level-1: #d4ebff;\n",
       "  --sklearn-color-fitted-level-2: #b3dbfd;\n",
       "  --sklearn-color-fitted-level-3: cornflowerblue;\n",
       "\n",
       "  /* Specific color for light theme */\n",
       "  --sklearn-color-text-on-default-background: var(--sg-text-color, var(--theme-code-foreground, var(--jp-content-font-color1, black)));\n",
       "  --sklearn-color-background: var(--sg-background-color, var(--theme-background, var(--jp-layout-color0, white)));\n",
       "  --sklearn-color-border-box: var(--sg-text-color, var(--theme-code-foreground, var(--jp-content-font-color1, black)));\n",
       "  --sklearn-color-icon: #696969;\n",
       "\n",
       "  @media (prefers-color-scheme: dark) {\n",
       "    /* Redefinition of color scheme for dark theme */\n",
       "    --sklearn-color-text-on-default-background: var(--sg-text-color, var(--theme-code-foreground, var(--jp-content-font-color1, white)));\n",
       "    --sklearn-color-background: var(--sg-background-color, var(--theme-background, var(--jp-layout-color0, #111)));\n",
       "    --sklearn-color-border-box: var(--sg-text-color, var(--theme-code-foreground, var(--jp-content-font-color1, white)));\n",
       "    --sklearn-color-icon: #878787;\n",
       "  }\n",
       "}\n",
       "\n",
       "#sk-container-id-2 {\n",
       "  color: var(--sklearn-color-text);\n",
       "}\n",
       "\n",
       "#sk-container-id-2 pre {\n",
       "  padding: 0;\n",
       "}\n",
       "\n",
       "#sk-container-id-2 input.sk-hidden--visually {\n",
       "  border: 0;\n",
       "  clip: rect(1px 1px 1px 1px);\n",
       "  clip: rect(1px, 1px, 1px, 1px);\n",
       "  height: 1px;\n",
       "  margin: -1px;\n",
       "  overflow: hidden;\n",
       "  padding: 0;\n",
       "  position: absolute;\n",
       "  width: 1px;\n",
       "}\n",
       "\n",
       "#sk-container-id-2 div.sk-dashed-wrapped {\n",
       "  border: 1px dashed var(--sklearn-color-line);\n",
       "  margin: 0 0.4em 0.5em 0.4em;\n",
       "  box-sizing: border-box;\n",
       "  padding-bottom: 0.4em;\n",
       "  background-color: var(--sklearn-color-background);\n",
       "}\n",
       "\n",
       "#sk-container-id-2 div.sk-container {\n",
       "  /* jupyter's `normalize.less` sets `[hidden] { display: none; }`\n",
       "     but bootstrap.min.css set `[hidden] { display: none !important; }`\n",
       "     so we also need the `!important` here to be able to override the\n",
       "     default hidden behavior on the sphinx rendered scikit-learn.org.\n",
       "     See: https://github.com/scikit-learn/scikit-learn/issues/21755 */\n",
       "  display: inline-block !important;\n",
       "  position: relative;\n",
       "}\n",
       "\n",
       "#sk-container-id-2 div.sk-text-repr-fallback {\n",
       "  display: none;\n",
       "}\n",
       "\n",
       "div.sk-parallel-item,\n",
       "div.sk-serial,\n",
       "div.sk-item {\n",
       "  /* draw centered vertical line to link estimators */\n",
       "  background-image: linear-gradient(var(--sklearn-color-text-on-default-background), var(--sklearn-color-text-on-default-background));\n",
       "  background-size: 2px 100%;\n",
       "  background-repeat: no-repeat;\n",
       "  background-position: center center;\n",
       "}\n",
       "\n",
       "/* Parallel-specific style estimator block */\n",
       "\n",
       "#sk-container-id-2 div.sk-parallel-item::after {\n",
       "  content: \"\";\n",
       "  width: 100%;\n",
       "  border-bottom: 2px solid var(--sklearn-color-text-on-default-background);\n",
       "  flex-grow: 1;\n",
       "}\n",
       "\n",
       "#sk-container-id-2 div.sk-parallel {\n",
       "  display: flex;\n",
       "  align-items: stretch;\n",
       "  justify-content: center;\n",
       "  background-color: var(--sklearn-color-background);\n",
       "  position: relative;\n",
       "}\n",
       "\n",
       "#sk-container-id-2 div.sk-parallel-item {\n",
       "  display: flex;\n",
       "  flex-direction: column;\n",
       "}\n",
       "\n",
       "#sk-container-id-2 div.sk-parallel-item:first-child::after {\n",
       "  align-self: flex-end;\n",
       "  width: 50%;\n",
       "}\n",
       "\n",
       "#sk-container-id-2 div.sk-parallel-item:last-child::after {\n",
       "  align-self: flex-start;\n",
       "  width: 50%;\n",
       "}\n",
       "\n",
       "#sk-container-id-2 div.sk-parallel-item:only-child::after {\n",
       "  width: 0;\n",
       "}\n",
       "\n",
       "/* Serial-specific style estimator block */\n",
       "\n",
       "#sk-container-id-2 div.sk-serial {\n",
       "  display: flex;\n",
       "  flex-direction: column;\n",
       "  align-items: center;\n",
       "  background-color: var(--sklearn-color-background);\n",
       "  padding-right: 1em;\n",
       "  padding-left: 1em;\n",
       "}\n",
       "\n",
       "\n",
       "/* Toggleable style: style used for estimator/Pipeline/ColumnTransformer box that is\n",
       "clickable and can be expanded/collapsed.\n",
       "- Pipeline and ColumnTransformer use this feature and define the default style\n",
       "- Estimators will overwrite some part of the style using the `sk-estimator` class\n",
       "*/\n",
       "\n",
       "/* Pipeline and ColumnTransformer style (default) */\n",
       "\n",
       "#sk-container-id-2 div.sk-toggleable {\n",
       "  /* Default theme specific background. It is overwritten whether we have a\n",
       "  specific estimator or a Pipeline/ColumnTransformer */\n",
       "  background-color: var(--sklearn-color-background);\n",
       "}\n",
       "\n",
       "/* Toggleable label */\n",
       "#sk-container-id-2 label.sk-toggleable__label {\n",
       "  cursor: pointer;\n",
       "  display: block;\n",
       "  width: 100%;\n",
       "  margin-bottom: 0;\n",
       "  padding: 0.5em;\n",
       "  box-sizing: border-box;\n",
       "  text-align: center;\n",
       "}\n",
       "\n",
       "#sk-container-id-2 label.sk-toggleable__label-arrow:before {\n",
       "  /* Arrow on the left of the label */\n",
       "  content: \"▸\";\n",
       "  float: left;\n",
       "  margin-right: 0.25em;\n",
       "  color: var(--sklearn-color-icon);\n",
       "}\n",
       "\n",
       "#sk-container-id-2 label.sk-toggleable__label-arrow:hover:before {\n",
       "  color: var(--sklearn-color-text);\n",
       "}\n",
       "\n",
       "/* Toggleable content - dropdown */\n",
       "\n",
       "#sk-container-id-2 div.sk-toggleable__content {\n",
       "  max-height: 0;\n",
       "  max-width: 0;\n",
       "  overflow: hidden;\n",
       "  text-align: left;\n",
       "  /* unfitted */\n",
       "  background-color: var(--sklearn-color-unfitted-level-0);\n",
       "}\n",
       "\n",
       "#sk-container-id-2 div.sk-toggleable__content.fitted {\n",
       "  /* fitted */\n",
       "  background-color: var(--sklearn-color-fitted-level-0);\n",
       "}\n",
       "\n",
       "#sk-container-id-2 div.sk-toggleable__content pre {\n",
       "  margin: 0.2em;\n",
       "  border-radius: 0.25em;\n",
       "  color: var(--sklearn-color-text);\n",
       "  /* unfitted */\n",
       "  background-color: var(--sklearn-color-unfitted-level-0);\n",
       "}\n",
       "\n",
       "#sk-container-id-2 div.sk-toggleable__content.fitted pre {\n",
       "  /* unfitted */\n",
       "  background-color: var(--sklearn-color-fitted-level-0);\n",
       "}\n",
       "\n",
       "#sk-container-id-2 input.sk-toggleable__control:checked~div.sk-toggleable__content {\n",
       "  /* Expand drop-down */\n",
       "  max-height: 200px;\n",
       "  max-width: 100%;\n",
       "  overflow: auto;\n",
       "}\n",
       "\n",
       "#sk-container-id-2 input.sk-toggleable__control:checked~label.sk-toggleable__label-arrow:before {\n",
       "  content: \"▾\";\n",
       "}\n",
       "\n",
       "/* Pipeline/ColumnTransformer-specific style */\n",
       "\n",
       "#sk-container-id-2 div.sk-label input.sk-toggleable__control:checked~label.sk-toggleable__label {\n",
       "  color: var(--sklearn-color-text);\n",
       "  background-color: var(--sklearn-color-unfitted-level-2);\n",
       "}\n",
       "\n",
       "#sk-container-id-2 div.sk-label.fitted input.sk-toggleable__control:checked~label.sk-toggleable__label {\n",
       "  background-color: var(--sklearn-color-fitted-level-2);\n",
       "}\n",
       "\n",
       "/* Estimator-specific style */\n",
       "\n",
       "/* Colorize estimator box */\n",
       "#sk-container-id-2 div.sk-estimator input.sk-toggleable__control:checked~label.sk-toggleable__label {\n",
       "  /* unfitted */\n",
       "  background-color: var(--sklearn-color-unfitted-level-2);\n",
       "}\n",
       "\n",
       "#sk-container-id-2 div.sk-estimator.fitted input.sk-toggleable__control:checked~label.sk-toggleable__label {\n",
       "  /* fitted */\n",
       "  background-color: var(--sklearn-color-fitted-level-2);\n",
       "}\n",
       "\n",
       "#sk-container-id-2 div.sk-label label.sk-toggleable__label,\n",
       "#sk-container-id-2 div.sk-label label {\n",
       "  /* The background is the default theme color */\n",
       "  color: var(--sklearn-color-text-on-default-background);\n",
       "}\n",
       "\n",
       "/* On hover, darken the color of the background */\n",
       "#sk-container-id-2 div.sk-label:hover label.sk-toggleable__label {\n",
       "  color: var(--sklearn-color-text);\n",
       "  background-color: var(--sklearn-color-unfitted-level-2);\n",
       "}\n",
       "\n",
       "/* Label box, darken color on hover, fitted */\n",
       "#sk-container-id-2 div.sk-label.fitted:hover label.sk-toggleable__label.fitted {\n",
       "  color: var(--sklearn-color-text);\n",
       "  background-color: var(--sklearn-color-fitted-level-2);\n",
       "}\n",
       "\n",
       "/* Estimator label */\n",
       "\n",
       "#sk-container-id-2 div.sk-label label {\n",
       "  font-family: monospace;\n",
       "  font-weight: bold;\n",
       "  display: inline-block;\n",
       "  line-height: 1.2em;\n",
       "}\n",
       "\n",
       "#sk-container-id-2 div.sk-label-container {\n",
       "  text-align: center;\n",
       "}\n",
       "\n",
       "/* Estimator-specific */\n",
       "#sk-container-id-2 div.sk-estimator {\n",
       "  font-family: monospace;\n",
       "  border: 1px dotted var(--sklearn-color-border-box);\n",
       "  border-radius: 0.25em;\n",
       "  box-sizing: border-box;\n",
       "  margin-bottom: 0.5em;\n",
       "  /* unfitted */\n",
       "  background-color: var(--sklearn-color-unfitted-level-0);\n",
       "}\n",
       "\n",
       "#sk-container-id-2 div.sk-estimator.fitted {\n",
       "  /* fitted */\n",
       "  background-color: var(--sklearn-color-fitted-level-0);\n",
       "}\n",
       "\n",
       "/* on hover */\n",
       "#sk-container-id-2 div.sk-estimator:hover {\n",
       "  /* unfitted */\n",
       "  background-color: var(--sklearn-color-unfitted-level-2);\n",
       "}\n",
       "\n",
       "#sk-container-id-2 div.sk-estimator.fitted:hover {\n",
       "  /* fitted */\n",
       "  background-color: var(--sklearn-color-fitted-level-2);\n",
       "}\n",
       "\n",
       "/* Specification for estimator info (e.g. \"i\" and \"?\") */\n",
       "\n",
       "/* Common style for \"i\" and \"?\" */\n",
       "\n",
       ".sk-estimator-doc-link,\n",
       "a:link.sk-estimator-doc-link,\n",
       "a:visited.sk-estimator-doc-link {\n",
       "  float: right;\n",
       "  font-size: smaller;\n",
       "  line-height: 1em;\n",
       "  font-family: monospace;\n",
       "  background-color: var(--sklearn-color-background);\n",
       "  border-radius: 1em;\n",
       "  height: 1em;\n",
       "  width: 1em;\n",
       "  text-decoration: none !important;\n",
       "  margin-left: 1ex;\n",
       "  /* unfitted */\n",
       "  border: var(--sklearn-color-unfitted-level-1) 1pt solid;\n",
       "  color: var(--sklearn-color-unfitted-level-1);\n",
       "}\n",
       "\n",
       ".sk-estimator-doc-link.fitted,\n",
       "a:link.sk-estimator-doc-link.fitted,\n",
       "a:visited.sk-estimator-doc-link.fitted {\n",
       "  /* fitted */\n",
       "  border: var(--sklearn-color-fitted-level-1) 1pt solid;\n",
       "  color: var(--sklearn-color-fitted-level-1);\n",
       "}\n",
       "\n",
       "/* On hover */\n",
       "div.sk-estimator:hover .sk-estimator-doc-link:hover,\n",
       ".sk-estimator-doc-link:hover,\n",
       "div.sk-label-container:hover .sk-estimator-doc-link:hover,\n",
       ".sk-estimator-doc-link:hover {\n",
       "  /* unfitted */\n",
       "  background-color: var(--sklearn-color-unfitted-level-3);\n",
       "  color: var(--sklearn-color-background);\n",
       "  text-decoration: none;\n",
       "}\n",
       "\n",
       "div.sk-estimator.fitted:hover .sk-estimator-doc-link.fitted:hover,\n",
       ".sk-estimator-doc-link.fitted:hover,\n",
       "div.sk-label-container:hover .sk-estimator-doc-link.fitted:hover,\n",
       ".sk-estimator-doc-link.fitted:hover {\n",
       "  /* fitted */\n",
       "  background-color: var(--sklearn-color-fitted-level-3);\n",
       "  color: var(--sklearn-color-background);\n",
       "  text-decoration: none;\n",
       "}\n",
       "\n",
       "/* Span, style for the box shown on hovering the info icon */\n",
       ".sk-estimator-doc-link span {\n",
       "  display: none;\n",
       "  z-index: 9999;\n",
       "  position: relative;\n",
       "  font-weight: normal;\n",
       "  right: .2ex;\n",
       "  padding: .5ex;\n",
       "  margin: .5ex;\n",
       "  width: min-content;\n",
       "  min-width: 20ex;\n",
       "  max-width: 50ex;\n",
       "  color: var(--sklearn-color-text);\n",
       "  box-shadow: 2pt 2pt 4pt #999;\n",
       "  /* unfitted */\n",
       "  background: var(--sklearn-color-unfitted-level-0);\n",
       "  border: .5pt solid var(--sklearn-color-unfitted-level-3);\n",
       "}\n",
       "\n",
       ".sk-estimator-doc-link.fitted span {\n",
       "  /* fitted */\n",
       "  background: var(--sklearn-color-fitted-level-0);\n",
       "  border: var(--sklearn-color-fitted-level-3);\n",
       "}\n",
       "\n",
       ".sk-estimator-doc-link:hover span {\n",
       "  display: block;\n",
       "}\n",
       "\n",
       "/* \"?\"-specific style due to the `<a>` HTML tag */\n",
       "\n",
       "#sk-container-id-2 a.estimator_doc_link {\n",
       "  float: right;\n",
       "  font-size: 1rem;\n",
       "  line-height: 1em;\n",
       "  font-family: monospace;\n",
       "  background-color: var(--sklearn-color-background);\n",
       "  border-radius: 1rem;\n",
       "  height: 1rem;\n",
       "  width: 1rem;\n",
       "  text-decoration: none;\n",
       "  /* unfitted */\n",
       "  color: var(--sklearn-color-unfitted-level-1);\n",
       "  border: var(--sklearn-color-unfitted-level-1) 1pt solid;\n",
       "}\n",
       "\n",
       "#sk-container-id-2 a.estimator_doc_link.fitted {\n",
       "  /* fitted */\n",
       "  border: var(--sklearn-color-fitted-level-1) 1pt solid;\n",
       "  color: var(--sklearn-color-fitted-level-1);\n",
       "}\n",
       "\n",
       "/* On hover */\n",
       "#sk-container-id-2 a.estimator_doc_link:hover {\n",
       "  /* unfitted */\n",
       "  background-color: var(--sklearn-color-unfitted-level-3);\n",
       "  color: var(--sklearn-color-background);\n",
       "  text-decoration: none;\n",
       "}\n",
       "\n",
       "#sk-container-id-2 a.estimator_doc_link.fitted:hover {\n",
       "  /* fitted */\n",
       "  background-color: var(--sklearn-color-fitted-level-3);\n",
       "}\n",
       "</style><div id=\"sk-container-id-2\" class=\"sk-top-container\"><div class=\"sk-text-repr-fallback\"><pre>KNeighborsRegressor()</pre><b>In a Jupyter environment, please rerun this cell to show the HTML representation or trust the notebook. <br />On GitHub, the HTML representation is unable to render, please try loading this page with nbviewer.org.</b></div><div class=\"sk-container\" hidden><div class=\"sk-item\"><div class=\"sk-estimator fitted sk-toggleable\"><input class=\"sk-toggleable__control sk-hidden--visually\" id=\"sk-estimator-id-2\" type=\"checkbox\" checked><label for=\"sk-estimator-id-2\" class=\"sk-toggleable__label fitted sk-toggleable__label-arrow fitted\">&nbsp;&nbsp;KNeighborsRegressor<a class=\"sk-estimator-doc-link fitted\" rel=\"noreferrer\" target=\"_blank\" href=\"https://scikit-learn.org/1.5/modules/generated/sklearn.neighbors.KNeighborsRegressor.html\">?<span>Documentation for KNeighborsRegressor</span></a><span class=\"sk-estimator-doc-link fitted\">i<span>Fitted</span></span></label><div class=\"sk-toggleable__content fitted\"><pre>KNeighborsRegressor()</pre></div> </div></div></div></div>"
      ],
      "text/plain": [
       "KNeighborsRegressor()"
      ]
     },
     "execution_count": 59,
     "metadata": {},
     "output_type": "execute_result"
    }
   ],
   "source": [
    "knn.fit(x_train_scaled, y_train)"
   ]
  },
  {
   "cell_type": "code",
   "execution_count": 60,
   "id": "f71e0f16-1793-44bc-82ba-7175bd1841d9",
   "metadata": {},
   "outputs": [],
   "source": [
    "y_pred = knn.predict(x_test_scaled)"
   ]
  },
  {
   "cell_type": "code",
   "execution_count": 61,
   "id": "6be236ed-99e2-403f-8164-e3312435dff8",
   "metadata": {},
   "outputs": [],
   "source": [
    "mse = mean_squared_error(y_test, y_pred)\n",
    "rmse = np.sqrt(mse)\n",
    "r2 = r2_score(y_test, y_pred)"
   ]
  },
  {
   "cell_type": "code",
   "execution_count": 62,
   "id": "84f415be-8f92-42cd-8d54-ab53c8bfffa7",
   "metadata": {},
   "outputs": [
    {
     "name": "stdout",
     "output_type": "stream",
     "text": [
      "Mean Squared Error (MSE): 85117.29\n",
      "Root Mean Squared Error (RMSE): 291.75\n",
      "R² Score: 0.66\n"
     ]
    }
   ],
   "source": [
    "print(f\"Mean Squared Error (MSE): {mse:.2f}\")\n",
    "print(f\"Root Mean Squared Error (RMSE): {rmse:.2f}\")\n",
    "print(f\"R² Score: {r2:.2f}\")"
   ]
  },
  {
   "cell_type": "code",
   "execution_count": 63,
   "id": "3f9fd3f4-7f0e-4291-9588-e4b012e5170e",
   "metadata": {},
   "outputs": [
    {
     "data": {
      "image/png": "[encoded data removed]",
      "text/plain": [
       "<Figure size 1000x600 with 1 Axes>"
      ]
     },
     "metadata": {},
     "output_type": "display_data"
    }
   ],
   "source": [
    "plt.figure(figsize=(10, 6))\n",
    "plt.scatter(range(len(y_test)), y_test, label='Actual Rainfall', color='blue')\n",
    "plt.scatter(range(len(y_pred)), y_pred, label='Predicted Rainfall', color='red', alpha=0.6)\n",
    "plt.title('Actual vs Predicted Rainfall')\n",
    "plt.xlabel('Sample Index')\n",
    "plt.ylabel('Rainfall')\n",
    "plt.legend()\n",
    "plt.show()"
   ]
  },
  {
   "cell_type": "code",
   "execution_count": null,
   "id": "0838f857-7d65-4df6-8bfe-794858a0b9e7",
   "metadata": {},
   "outputs": [],
   "source": []
  },
  {
   "cell_type": "code",
   "execution_count": null,
   "id": "ffc6c664-558b-4c5c-b932-ca590c5e8e54",
   "metadata": {},
   "outputs": [],
   "source": []
  },
  {
   "cell_type": "markdown",
   "id": "ca23df71-1d2d-4e1c-8204-a67a217e1caf",
   "metadata": {},
   "source": [
    "### K-Fold Cross-Validation"
   ]
  },
  {
   "cell_type": "markdown",
   "id": "901710d9-f1be-4d7f-ba29-9783949e6681",
   "metadata": {},
   "source": [
    "##### CatBoostRegressor"
   ]
  },
  {
   "cell_type": "code",
   "execution_count": 64,
   "id": "bda7a8ff-c866-4dd8-988f-d49bce3d13ba",
   "metadata": {},
   "outputs": [],
   "source": [
    "from catboost import CatBoostRegressor\n",
    "from sklearn.model_selection import KFold, cross_val_score\n",
    "from sklearn.metrics import make_scorer, mean_squared_error"
   ]
  },
  {
   "cell_type": "code",
   "execution_count": 65,
   "id": "82aae215-e2ce-4a4f-9491-02c9b7a04a2d",
   "metadata": {},
   "outputs": [],
   "source": [
    "# Define the CatBoost Regressor\n",
    "catboost_model = CatBoostRegressor(\n",
    "    iterations=500,  # Number of boosting iterations\n",
    "    learning_rate=0.1,  # Learning rate\n",
    "    depth=6,  # Tree depth\n",
    "    verbose=0  # Suppress verbose output\n",
    ")"
   ]
  },
  {
   "cell_type": "code",
   "execution_count": 66,
   "id": "3562ef68-5a1d-4450-b894-0c94dc6f3855",
   "metadata": {},
   "outputs": [],
   "source": [
    "# Define K-Fold Cross-Validation\n",
    "kf = KFold(n_splits=5, shuffle=True, random_state=42)"
   ]
  },
  {
   "cell_type": "code",
   "execution_count": 67,
   "id": "3eea1fb0-e38c-42c6-8673-05509754888a",
   "metadata": {},
   "outputs": [],
   "source": [
    "# Define RMSE scoring function\n",
    "def rmse(y_true, y_pred):\n",
    "    return np.sqrt(mean_squared_error(y_true, y_pred))\n",
    "\n",
    "rmse_scorer = make_scorer(rmse, greater_is_better=False)"
   ]
  },
  {
   "cell_type": "code",
   "execution_count": 68,
   "id": "0ef6c974-bfdf-4d51-a6a4-c089a7844704",
   "metadata": {},
   "outputs": [],
   "source": [
    "# Perform K-Fold Cross-Validation\n",
    "cv_scores = cross_val_score(catboost_model, x, y, cv=kf, scoring=rmse_scorer)"
   ]
  },
  {
   "cell_type": "code",
   "execution_count": 69,
   "id": "144cb2f9-e2be-48db-b02e-15d9d25be702",
   "metadata": {},
   "outputs": [
    {
     "name": "stdout",
     "output_type": "stream",
     "text": [
      "Cross-Validation RMSE scores: [200.37900886 274.87145887 262.6305035  225.04485704 229.21855494]\n",
      "Mean RMSE: 238.42887664216482\n",
      "Standard Deviation of RMSE: 26.927810851744255\n"
     ]
    }
   ],
   "source": [
    "print(\"Cross-Validation RMSE scores:\", -cv_scores)  # Negate values as they are negative by default\n",
    "print(\"Mean RMSE:\", -np.mean(cv_scores))\n",
    "print(\"Standard Deviation of RMSE:\", np.std(-cv_scores))"
   ]
  },
  {
   "cell_type": "markdown",
   "id": "9468c0d0-81e7-4a0e-a6ca-0a0fcbab766e",
   "metadata": {},
   "source": [
    "# Conculusion"
   ]
  },
  {
   "cell_type": "markdown",
   "id": "ffa36583-fdff-4e39-b2e9-0ff49521e86d",
   "metadata": {},
   "source": [
    "According to this Rain Foreasting Predection. Here i used 3 Type of algorithm.There are RandomForest Regressor, Catboost Regressor,KNN regressor.\n",
    "here CatBoot Algorithm Is performed Well And I do Cross Check the Cross Validation for  CatBoost Algorithm is working performance Good.\n",
    "Its R² Score: 0.85 Accuracy Predecting in CatBoost Algorithm Compare between all the algorithm"
   ]
  },
  {
   "cell_type": "code",
   "execution_count": null,
   "id": "b9ae9a46-edcd-4eeb-a5e5-3435441f9186",
   "metadata": {},
   "outputs": [],
   "source": []
  },
  {
   "cell_type": "code",
   "execution_count": null,
   "id": "9a91b998-113a-4778-b5d2-88e2a0d31ff0",
   "metadata": {},
   "outputs": [],
   "source": []
  },
  {
   "cell_type": "code",
   "execution_count": null,
   "id": "14201f81-63cd-443a-8c2e-6697e03b9454",
   "metadata": {},
   "outputs": [],
   "source": []
  },
  {
   "cell_type": "code",
   "execution_count": null,
   "id": "582947f4-7a6b-4ec9-831e-efca12c95eb2",
   "metadata": {},
   "outputs": [],
   "source": []
  },
  {
   "cell_type": "code",
   "execution_count": null,
   "id": "7c1f45b8-def7-4e18-9db5-41016d9ca15b",
   "metadata": {},
   "outputs": [],
   "source": []
  },
  {
   "cell_type": "code",
   "execution_count": null,
   "id": "9fedea05-3914-41f5-a2f3-7e5eeb3bc2d1",
   "metadata": {},
   "outputs": [],
   "source": []
  },
  {
   "cell_type": "code",
   "execution_count": null,
   "id": "1699449d-99de-4a7a-a3ef-83d7982cd748",
   "metadata": {},
   "outputs": [],
   "source": []
  },
  {
   "cell_type": "code",
   "execution_count": null,
   "id": "2a53254c-aa3a-45b3-b44f-e259dd872e56",
   "metadata": {},
   "outputs": [],
   "source": []
  },
  {
   "cell_type": "code",
   "execution_count": null,
   "id": "b9abd8ca-c616-44f3-9f0a-775680ccc2f8",
   "metadata": {},
   "outputs": [],
   "source": []
  },
  {
   "cell_type": "code",
   "execution_count": null,
   "id": "8e3c927e-095e-4818-9dd3-e10bf035cb69",
   "metadata": {},
   "outputs": [],
   "source": []
  },
  {
   "cell_type": "code",
   "execution_count": null,
   "id": "223d919a-09ec-469b-b720-5ca4bb2f4c10",
   "metadata": {},
   "outputs": [],
   "source": []
  },
  {
   "cell_type": "code",
   "execution_count": null,
   "id": "bbee4bcf-b3d4-44ba-9698-5fdb07c40510",
   "metadata": {},
   "outputs": [],
   "source": []
  }
 ],
 "metadata": {
  "kernelspec": {
   "display_name": "Python 3 (ipykernel)",
   "language": "python",
   "name": "python3"
  },
  "language_info": {
   "codemirror_mode": {
    "name": "ipython",
    "version": 3
   },
   "file_extension": ".py",
   "mimetype": "text/x-python",
   "name": "python",
   "nbconvert_exporter": "python",
   "pygments_lexer": "ipython3",
   "version": "3.12.7"
  },
  "widgets": {
   "application/vnd.jupyter.widget-state+json": {
    "state": {},
    "version_major": 2,
    "version_minor": 0
   }
  }
 },
 "nbformat": 4,
 "nbformat_minor": 5
}
